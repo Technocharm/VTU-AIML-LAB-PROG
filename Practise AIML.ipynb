{
 "cells": [
  {
   "cell_type": "markdown",
   "id": "cb874e9b",
   "metadata": {},
   "source": [
    "# KNN"
   ]
  },
  {
   "cell_type": "code",
   "execution_count": 165,
   "id": "f4e6997a",
   "metadata": {},
   "outputs": [],
   "source": [
    "import numpy as np\n",
    "from sklearn import datasets\n",
    "from sklearn.neighbors import KNeighborsClassifier\n",
    "from sklearn.model_selection import train_test_split\n",
    "from sklearn import metrics"
   ]
  },
  {
   "cell_type": "code",
   "execution_count": 166,
   "id": "aacabd37",
   "metadata": {},
   "outputs": [],
   "source": [
    "iris=datasets.load_iris()"
   ]
  },
  {
   "cell_type": "code",
   "execution_count": 167,
   "id": "8eadbb4d",
   "metadata": {},
   "outputs": [],
   "source": [
    "x=iris.data\n",
    "y=iris.target\n",
    "\n",
    "xtrain,xtest,ytrain,ytest=train_test_split(x,y,test_size=0.20,random_state=23)"
   ]
  },
  {
   "cell_type": "code",
   "execution_count": 168,
   "id": "227df879",
   "metadata": {},
   "outputs": [],
   "source": [
    "knn=KNeighborsClassifier(n_neighbors=3)"
   ]
  },
  {
   "cell_type": "code",
   "execution_count": 169,
   "id": "ee185bf5",
   "metadata": {},
   "outputs": [
    {
     "name": "stderr",
     "output_type": "stream",
     "text": [
      "C:\\Users\\vinee\\anaconda3\\lib\\site-packages\\sklearn\\neighbors\\_classification.py:211: FutureWarning: Unlike other reduction functions (e.g. `skew`, `kurtosis`), the default behavior of `mode` typically preserves the axis it acts along. In SciPy 1.11.0, this behavior will change: the default value of `keepdims` will become False, the `axis` over which the statistic is taken will be eliminated, and the value None will no longer be accepted. Set `keepdims` to True or False to avoid this warning.\n",
      "  mode, _ = stats.mode(_y[neigh_ind, k], axis=1)\n"
     ]
    }
   ],
   "source": [
    "knn.fit(xtrain,ytrain)\n",
    "y_pred=knn.predict(xtest)"
   ]
  },
  {
   "cell_type": "code",
   "execution_count": 170,
   "id": "5c17bbfd",
   "metadata": {},
   "outputs": [
    {
     "data": {
      "text/plain": [
       "0.9666666666666667"
      ]
     },
     "execution_count": 170,
     "metadata": {},
     "output_type": "execute_result"
    }
   ],
   "source": [
    "metrics.accuracy_score(ytest,y_pred)"
   ]
  },
  {
   "cell_type": "code",
   "execution_count": 171,
   "id": "21480778",
   "metadata": {},
   "outputs": [
    {
     "data": {
      "text/plain": [
       "array([[12,  0,  0],\n",
       "       [ 0,  8,  0],\n",
       "       [ 0,  1,  9]], dtype=int64)"
      ]
     },
     "execution_count": 171,
     "metadata": {},
     "output_type": "execute_result"
    }
   ],
   "source": [
    "metrics.confusion_matrix(ytest,y_pred)"
   ]
  },
  {
   "cell_type": "code",
   "execution_count": 172,
   "id": "1d8930f9",
   "metadata": {},
   "outputs": [
    {
     "name": "stdout",
     "output_type": "stream",
     "text": [
      "              precision    recall  f1-score   support\n",
      "\n",
      "           0       1.00      1.00      1.00        12\n",
      "           1       0.89      1.00      0.94         8\n",
      "           2       1.00      0.90      0.95        10\n",
      "\n",
      "    accuracy                           0.97        30\n",
      "   macro avg       0.96      0.97      0.96        30\n",
      "weighted avg       0.97      0.97      0.97        30\n",
      "\n"
     ]
    }
   ],
   "source": [
    "print(metrics.classification_report(ytest,y_pred))"
   ]
  },
  {
   "cell_type": "code",
   "execution_count": 173,
   "id": "904cf31f",
   "metadata": {},
   "outputs": [],
   "source": [
    "mat=metrics.confusion_matrix(ytest,y_pred)"
   ]
  },
  {
   "cell_type": "code",
   "execution_count": 174,
   "id": "8a3cfaa7",
   "metadata": {},
   "outputs": [
    {
     "name": "stdout",
     "output_type": "stream",
     "text": [
      "29 1\n"
     ]
    }
   ],
   "source": [
    "c,w=0,0\n",
    "for i in range(len(mat)):\n",
    "    for j in range(len(mat[0])):\n",
    "        if i==j:\n",
    "            c+=mat[i][j]\n",
    "        else:\n",
    "            w+=mat[i][j]\n",
    "print(c,w)"
   ]
  },
  {
   "cell_type": "markdown",
   "id": "4c2c41c6",
   "metadata": {},
   "source": [
    "# EM KMeans GaussianMixture"
   ]
  },
  {
   "cell_type": "code",
   "execution_count": 175,
   "id": "052afc1e",
   "metadata": {},
   "outputs": [],
   "source": [
    "import numpy as np\n",
    "import matplotlib.pyplot as plt\n",
    "import pandas as pd\n",
    "from sklearn import metrics\n",
    "from sklearn.cluster import KMeans\n",
    "from sklearn.mixture import GaussianMixture\n",
    "from sklearn import datasets"
   ]
  },
  {
   "cell_type": "code",
   "execution_count": 176,
   "id": "69f1ba83",
   "metadata": {},
   "outputs": [],
   "source": [
    "iris=datasets.load_iris()"
   ]
  },
  {
   "cell_type": "code",
   "execution_count": 177,
   "id": "3c318d8d",
   "metadata": {},
   "outputs": [
    {
     "name": "stdout",
     "output_type": "stream",
     "text": [
      "['sepal length (cm)', 'sepal width (cm)', 'petal length (cm)', 'petal width (cm)'] ['setosa' 'versicolor' 'virginica']\n"
     ]
    }
   ],
   "source": [
    "print(iris.feature_names,iris.target_names)"
   ]
  },
  {
   "cell_type": "code",
   "execution_count": 178,
   "id": "9bd3ef14",
   "metadata": {},
   "outputs": [],
   "source": [
    "x=pd.DataFrame(iris.data)"
   ]
  },
  {
   "cell_type": "code",
   "execution_count": 179,
   "id": "1e1dcbde",
   "metadata": {},
   "outputs": [],
   "source": [
    "x.columns=['sepal_length', 'sepal_width', 'petal_length', 'petal_width']"
   ]
  },
  {
   "cell_type": "code",
   "execution_count": 180,
   "id": "02e196f6",
   "metadata": {},
   "outputs": [],
   "source": [
    "y=pd.DataFrame(iris.target)"
   ]
  },
  {
   "cell_type": "code",
   "execution_count": 181,
   "id": "91907750",
   "metadata": {},
   "outputs": [],
   "source": [
    "y.columns=['Targets']"
   ]
  },
  {
   "cell_type": "code",
   "execution_count": 182,
   "id": "46d040b6",
   "metadata": {},
   "outputs": [],
   "source": [
    "model=KMeans(n_clusters=3,random_state=100)\n",
    "model.fit(x)\n",
    "y_pred=model.labels_"
   ]
  },
  {
   "cell_type": "code",
   "execution_count": 183,
   "id": "fa144cb1",
   "metadata": {},
   "outputs": [],
   "source": [
    "gmm=GaussianMixture(n_components=3,covariance_type=\"full\",random_state=100)\n",
    "gmm.fit(x)\n",
    "y_pred_gmm=gmm.predict(x)\n",
    "# help(GaussianMixture)"
   ]
  },
  {
   "cell_type": "code",
   "execution_count": 184,
   "id": "f348ebc6",
   "metadata": {
    "scrolled": false
   },
   "outputs": [
    {
     "data": {
      "text/plain": [
       "Text(0.5, 1.0, 'GMM')"
      ]
     },
     "execution_count": 184,
     "metadata": {},
     "output_type": "execute_result"
    },
    {
     "data": {
      "image/png": "[encoded data removed]",
      "text/plain": [
       "<Figure size 1152x504 with 3 Axes>"
      ]
     },
     "metadata": {
      "needs_background": "light"
     },
     "output_type": "display_data"
    }
   ],
   "source": [
    "colormap=np.array(['red','yellow','green'])\n",
    "plt.figure(figsize=(16,7))\n",
    "plt.subplot(1,3,1)\n",
    "plt.scatter(x.petal_length,x.petal_width,c=colormap[y.Targets],s=40)\n",
    "plt.title('Real')\n",
    "plt.subplot(1,3,2)\n",
    "plt.scatter(x.petal_length,x.petal_width,c=colormap[y_pred],s=40)\n",
    "plt.title('KMeans')\n",
    "plt.subplot(1,3,3)\n",
    "plt.scatter(x.petal_length,x.petal_width,c=colormap[y_pred_gmm],s=40)\n",
    "plt.title('GMM')"
   ]
  },
  {
   "cell_type": "code",
   "execution_count": 185,
   "id": "806a7a2c",
   "metadata": {},
   "outputs": [
    {
     "data": {
      "text/plain": [
       "0.8933333333333333"
      ]
     },
     "execution_count": 185,
     "metadata": {},
     "output_type": "execute_result"
    }
   ],
   "source": [
    "metrics.accuracy_score(y,y_pred)"
   ]
  },
  {
   "cell_type": "code",
   "execution_count": 186,
   "id": "ec9c8930",
   "metadata": {},
   "outputs": [
    {
     "data": {
      "text/plain": [
       "0.9666666666666667"
      ]
     },
     "execution_count": 186,
     "metadata": {},
     "output_type": "execute_result"
    }
   ],
   "source": [
    "metrics.accuracy_score(y,y_pred_gmm)"
   ]
  },
  {
   "cell_type": "code",
   "execution_count": 187,
   "id": "8f972b18",
   "metadata": {},
   "outputs": [
    {
     "name": "stdout",
     "output_type": "stream",
     "text": [
      "[[50  0  0]\n",
      " [ 0 48  2]\n",
      " [ 0 14 36]]\n"
     ]
    }
   ],
   "source": [
    "print(metrics.confusion_matrix(y,y_pred))"
   ]
  },
  {
   "cell_type": "code",
   "execution_count": 188,
   "id": "2fbf8d34",
   "metadata": {},
   "outputs": [
    {
     "name": "stdout",
     "output_type": "stream",
     "text": [
      "[[50  0  0]\n",
      " [ 0 45  5]\n",
      " [ 0  0 50]]\n"
     ]
    }
   ],
   "source": [
    "print(metrics.confusion_matrix(y,y_pred_gmm))"
   ]
  },
  {
   "cell_type": "markdown",
   "id": "3af97e1a",
   "metadata": {},
   "source": [
    "# LW"
   ]
  },
  {
   "cell_type": "code",
   "execution_count": 189,
   "id": "9f54e18f",
   "metadata": {},
   "outputs": [],
   "source": [
    "import numpy as np\n",
    "import matplotlib.pyplot as plt"
   ]
  },
  {
   "cell_type": "code",
   "execution_count": 190,
   "id": "f7087087",
   "metadata": {},
   "outputs": [],
   "source": [
    "x_train=np.array(list(range(3,33))+[3.2,4.2])\n",
    "x_train=x_train[:,np.newaxis]"
   ]
  },
  {
   "cell_type": "code",
   "execution_count": 191,
   "id": "4073daa1",
   "metadata": {},
   "outputs": [],
   "source": [
    "y_train=np.array([1,1,2,2,3,4,5,3,4,5,5,6,7,8,9,11,11,12,13,13,12,14,16,17,18,19,17,13,13,21,23,23])\n",
    "y_train=y_train[:,np.newaxis]"
   ]
  },
  {
   "cell_type": "code",
   "execution_count": 192,
   "id": "075d7f5c",
   "metadata": {},
   "outputs": [],
   "source": [
    "x_test=np.array([i/10 for i in range(400)])\n",
    "x_test=x_test[:,np.newaxis]"
   ]
  },
  {
   "cell_type": "code",
   "execution_count": 193,
   "id": "55e5fd2a",
   "metadata": {},
   "outputs": [
    {
     "data": {
      "image/png": "[encoded data removed]",
      "text/plain": [
       "<Figure size 432x288 with 1 Axes>"
      ]
     },
     "metadata": {
      "needs_background": "light"
     },
     "output_type": "display_data"
    }
   ],
   "source": [
    "y_test=[]\n",
    "tou=0.8\n",
    "\n",
    "for i in x_test:\n",
    "    try:\n",
    "        wt=np.exp(-np.sum((x_train-i),axis=1)**2/(2*tou)**2)\n",
    "        w=np.diag(wt)\n",
    "        part1=np.linalg.inv((x_train.T).dot(w).dot(x_train))\n",
    "        part2=part1.dot(x_train.T).dot(w).dot(y_train)\n",
    "        pred=i.dot(part2)\n",
    "        y_test.append(pred)\n",
    "    except:\n",
    "        pass\n",
    "y_test=np.array(y_test)\n",
    "plt.plot(x_train.squeeze(),y_train,'o')\n",
    "plt.plot(x_test.squeeze(),y_test,'*')\n",
    "plt.show()"
   ]
  },
  {
   "cell_type": "markdown",
   "id": "9a5167ab",
   "metadata": {},
   "source": [
    "# NB"
   ]
  },
  {
   "cell_type": "code",
   "execution_count": 194,
   "id": "b35c6f24",
   "metadata": {},
   "outputs": [],
   "source": [
    "import pandas as pd\n",
    "import numpy as np\n",
    "from sklearn import metrics\n",
    "from sklearn.naive_bayes import GaussianNB"
   ]
  },
  {
   "cell_type": "code",
   "execution_count": 195,
   "id": "9c59b433",
   "metadata": {},
   "outputs": [],
   "source": [
    "filename='diabetes.csv'\n",
    "df=pd.read_csv(filename)\n",
    "df=df.astype('float')"
   ]
  },
  {
   "cell_type": "code",
   "execution_count": 196,
   "id": "41d5ea8c",
   "metadata": {},
   "outputs": [],
   "source": [
    "train=df.sample(frac=0.8,random_state=100)"
   ]
  },
  {
   "cell_type": "code",
   "execution_count": 197,
   "id": "d2c9d7b2",
   "metadata": {},
   "outputs": [],
   "source": [
    "test=df.drop(train.index)"
   ]
  },
  {
   "cell_type": "code",
   "execution_count": 198,
   "id": "0d85481a",
   "metadata": {},
   "outputs": [],
   "source": [
    "xtrain=train.iloc[:,:-1]"
   ]
  },
  {
   "cell_type": "code",
   "execution_count": 199,
   "id": "d88b804c",
   "metadata": {},
   "outputs": [],
   "source": [
    "ytrain=train.iloc[:,-1]"
   ]
  },
  {
   "cell_type": "code",
   "execution_count": 200,
   "id": "ee0ac883",
   "metadata": {},
   "outputs": [],
   "source": [
    "xtest=test.iloc[:,:-1]"
   ]
  },
  {
   "cell_type": "code",
   "execution_count": 201,
   "id": "ee94d69a",
   "metadata": {},
   "outputs": [],
   "source": [
    "gnb=GaussianNB()\n",
    "gnb.fit(xtrain,ytrain)\n",
    "y_pred=gnb.predict(xtest)"
   ]
  },
  {
   "cell_type": "code",
   "execution_count": 202,
   "id": "4d35bf60",
   "metadata": {},
   "outputs": [
    {
     "data": {
      "text/plain": [
       "0.7402597402597403"
      ]
     },
     "execution_count": 202,
     "metadata": {},
     "output_type": "execute_result"
    }
   ],
   "source": [
    "ytest=test.iloc[:,-1]\n",
    "metrics.accuracy_score(y_pred,ytest)"
   ]
  }
 ],
 "metadata": {
  "kernelspec": {
   "display_name": "Python 3",
   "language": "python",
   "name": "python3"
  },
  "language_info": {
   "codemirror_mode": {
    "name": "ipython",
    "version": 3
   },
   "file_extension": ".py",
   "mimetype": "text/x-python",
   "name": "python",
   "nbconvert_exporter": "python",
   "pygments_lexer": "ipython3",
   "version": "3.8.8"
  }
 },
 "nbformat": 4,
 "nbformat_minor": 5
}
