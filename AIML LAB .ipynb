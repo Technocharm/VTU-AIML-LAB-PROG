{
 "cells": [
  {
   "cell_type": "markdown",
   "id": "0a810db6",
   "metadata": {},
   "source": [
    "# A*"
   ]
  },
  {
   "cell_type": "code",
   "execution_count": 261,
   "id": "2709e660",
   "metadata": {},
   "outputs": [],
   "source": [
    "class Node:\n",
    "    def __init__(self,value,coords):\n",
    "        self.value=value\n",
    "        self.coords=coords\n",
    "        self.parent=None\n",
    "        self.g=0\n",
    "        self.h=0\n",
    "        \n",
    "    def __str__(self):\n",
    "        s=f'{self.coords} f={self.g+self.h:0.2f}, g={self.g:0.2f}, h={self.h:0.2f}'\n",
    "        return s\n",
    "    \n",
    "    def make_move(self,other):\n",
    "        return 1"
   ]
  },
  {
   "cell_type": "code",
   "execution_count": 262,
   "id": "0f0e2d2a",
   "metadata": {},
   "outputs": [],
   "source": [
    "def manhattan(node,goal):\n",
    "    xN,yN=node.coords\n",
    "    xG,yG=goal.coords\n",
    "    h=abs(xN-xG)+abs(yN-yG)\n",
    "    return h"
   ]
  },
  {
   "cell_type": "code",
   "execution_count": 263,
   "id": "9b07bbe4",
   "metadata": {},
   "outputs": [],
   "source": [
    "def children(current,grid):\n",
    "    x,y=current.coords\n",
    "    links=[(x+1,y),(x-1,y),(x,y-1),(x,y+1)]\n",
    "    valid_links=[link for row in grid for link in row if link.value!=0]\n",
    "    valid_children=[link for link in valid_links if link.coords in links]\n",
    "    return valid_children"
   ]
  },
  {
   "cell_type": "code",
   "execution_count": 264,
   "id": "cd617249",
   "metadata": {},
   "outputs": [],
   "source": [
    "def astar(start,goal,grid):\n",
    "    current=start\n",
    "    openl=list()\n",
    "    closedl=list()\n",
    "    \n",
    "    openl.append(current)\n",
    "    \n",
    "    while openl:\n",
    "        \n",
    "        current=min(openl,key=lambda o:o.g+o.h)\n",
    "        if current==goal:\n",
    "            path=[]\n",
    "            while current.parent:\n",
    "                path.append(current)\n",
    "                current=current.parent\n",
    "            path.append(current)\n",
    "            return path[::-1]\n",
    "        \n",
    "        openl.remove(current)\n",
    "        closedl.append(current)\n",
    "        \n",
    "        for node in children(current,grid):\n",
    "            \n",
    "            if node in closedl:\n",
    "                new_cost=node.g+current.make_move(node)\n",
    "                if new_cost<=node.g:\n",
    "                    openl.append(node)\n",
    "                    closedl.remove(node)\n",
    "                    \n",
    "            elif node in openl:\n",
    "                new_cost=node.g+current.make_move(node)\n",
    "                if new_cost<=node.g:\n",
    "                    node.g=new_cost\n",
    "                    node.parent=current\n",
    "            \n",
    "            else:\n",
    "                node.g=node.g+current.make_move(node)\n",
    "                node.h=manhattan(node,goal)\n",
    "                node.parent=current\n",
    "                openl.append(node)\n",
    "    return None        "
   ]
  },
  {
   "cell_type": "code",
   "execution_count": 265,
   "id": "e16047df",
   "metadata": {},
   "outputs": [],
   "source": [
    "grid = [[1,1,1,1],\n",
    "        [1,1,1,1],\n",
    "        [1,1,1,1],\n",
    "        [1,1,0,0],\n",
    "        [1,1,0,1]]\n",
    "\n",
    "for x in range(len(grid)):\n",
    "    for y in range(len(grid[x])):\n",
    "        grid[x][y]=Node(grid[x][y],(x,y))\n",
    "        \n",
    "start=grid[4][0]\n",
    "goal=grid[0][3]"
   ]
  },
  {
   "cell_type": "code",
   "execution_count": 266,
   "id": "975dea4d",
   "metadata": {},
   "outputs": [
    {
     "name": "stdout",
     "output_type": "stream",
     "text": [
      "(4, 0) (3, 0) (2, 0) (1, 0) (0, 0) (0, 1) (0, 2) (0, 3) "
     ]
    }
   ],
   "source": [
    "path=astar(start,goal,grid)\n",
    "if path:\n",
    "    for i in path:\n",
    "        print(i.coords,end=\" \")\n",
    "else:\n",
    "    print(\"No Path\")"
   ]
  },
  {
   "cell_type": "markdown",
   "id": "cee16d71",
   "metadata": {},
   "source": [
    "# KNN"
   ]
  },
  {
   "cell_type": "code",
   "execution_count": 267,
   "id": "64e6df09",
   "metadata": {},
   "outputs": [],
   "source": [
    "import numpy as np\n",
    "import pandas as pd\n",
    "from sklearn import metrics\n",
    "from sklearn.neighbors import KNeighborsClassifier\n",
    "from sklearn.model_selection import train_test_split\n",
    "from sklearn import datasets"
   ]
  },
  {
   "cell_type": "code",
   "execution_count": 268,
   "id": "460fa10c",
   "metadata": {},
   "outputs": [],
   "source": [
    "iris=datasets.load_iris()\n",
    "x=iris.data\n",
    "y=iris.target"
   ]
  },
  {
   "cell_type": "code",
   "execution_count": 269,
   "id": "81026c2b",
   "metadata": {},
   "outputs": [],
   "source": [
    "xtrain,xtest,ytrain,ytest=train_test_split(x,y,test_size=0.20,random_state=23)"
   ]
  },
  {
   "cell_type": "code",
   "execution_count": 270,
   "id": "e1debd52",
   "metadata": {},
   "outputs": [],
   "source": [
    "knn=KNeighborsClassifier(n_neighbors=3)"
   ]
  },
  {
   "cell_type": "code",
   "execution_count": 271,
   "id": "64d30e57",
   "metadata": {},
   "outputs": [
    {
     "data": {
      "text/plain": [
       "KNeighborsClassifier(n_neighbors=3)"
      ]
     },
     "execution_count": 271,
     "metadata": {},
     "output_type": "execute_result"
    }
   ],
   "source": [
    "knn.fit(xtrain,ytrain)"
   ]
  },
  {
   "cell_type": "code",
   "execution_count": 272,
   "id": "aa8ddac0",
   "metadata": {},
   "outputs": [
    {
     "name": "stderr",
     "output_type": "stream",
     "text": [
      "C:\\Users\\vinee\\anaconda3\\lib\\site-packages\\sklearn\\neighbors\\_classification.py:211: FutureWarning: Unlike other reduction functions (e.g. `skew`, `kurtosis`), the default behavior of `mode` typically preserves the axis it acts along. In SciPy 1.11.0, this behavior will change: the default value of `keepdims` will become False, the `axis` over which the statistic is taken will be eliminated, and the value None will no longer be accepted. Set `keepdims` to True or False to avoid this warning.\n",
      "  mode, _ = stats.mode(_y[neigh_ind, k], axis=1)\n"
     ]
    }
   ],
   "source": [
    "ypred=knn.predict(xtest)"
   ]
  },
  {
   "cell_type": "code",
   "execution_count": 273,
   "id": "545dc819",
   "metadata": {},
   "outputs": [
    {
     "data": {
      "text/plain": [
       "0.9666666666666667"
      ]
     },
     "execution_count": 273,
     "metadata": {},
     "output_type": "execute_result"
    }
   ],
   "source": [
    "metrics.accuracy_score(ypred,ytest)"
   ]
  },
  {
   "cell_type": "code",
   "execution_count": 274,
   "id": "9213dad1",
   "metadata": {},
   "outputs": [
    {
     "data": {
      "text/plain": [
       "array([[12,  0,  0],\n",
       "       [ 0,  8,  1],\n",
       "       [ 0,  0,  9]], dtype=int64)"
      ]
     },
     "execution_count": 274,
     "metadata": {},
     "output_type": "execute_result"
    }
   ],
   "source": [
    "metrics.confusion_matrix(ypred,ytest)"
   ]
  },
  {
   "cell_type": "code",
   "execution_count": 275,
   "id": "ef6d8361",
   "metadata": {},
   "outputs": [
    {
     "name": "stdout",
     "output_type": "stream",
     "text": [
      "              precision    recall  f1-score   support\n",
      "\n",
      "           0       1.00      1.00      1.00        12\n",
      "           1       1.00      0.89      0.94         9\n",
      "           2       0.90      1.00      0.95         9\n",
      "\n",
      "    accuracy                           0.97        30\n",
      "   macro avg       0.97      0.96      0.96        30\n",
      "weighted avg       0.97      0.97      0.97        30\n",
      "\n"
     ]
    }
   ],
   "source": [
    "print(metrics.classification_report(ypred,ytest))"
   ]
  },
  {
   "cell_type": "code",
   "execution_count": 276,
   "id": "193e3226",
   "metadata": {},
   "outputs": [
    {
     "name": "stdout",
     "output_type": "stream",
     "text": [
      "29 1\n"
     ]
    }
   ],
   "source": [
    "mat=metrics.confusion_matrix(ypred,ytest)\n",
    "c,w=0,0\n",
    "for i in range(len(mat)):\n",
    "    for j in range(len(mat[0])):\n",
    "        if i==j:\n",
    "            c+=mat[i][j]\n",
    "        else:\n",
    "            w+=mat[i][j]\n",
    "print(c,w)"
   ]
  },
  {
   "cell_type": "markdown",
   "id": "ab465737",
   "metadata": {},
   "source": [
    "# LWR"
   ]
  },
  {
   "cell_type": "code",
   "execution_count": 277,
   "id": "d47f3483",
   "metadata": {},
   "outputs": [],
   "source": [
    "import numpy as np\n",
    "import matplotlib.pyplot as plt\n",
    "import pandas as pd \n",
    "\n",
    "xtrain=np.array(list(range(3,33))+[3.4,4.4])\n",
    "xtrain=xtrain[:,np.newaxis]\n",
    "\n",
    "ytrain=np.array([1,2,1,1,2,1,3,3,3,4,4,5,6,4,6,7,8,9,10,11,12,11,13,14,15,16,17,18,19,20,21,22])\n",
    "ytrain=ytrain[:,np.newaxis]"
   ]
  },
  {
   "cell_type": "code",
   "execution_count": 278,
   "id": "f86af6fb",
   "metadata": {},
   "outputs": [],
   "source": [
    "xtest=np.array([i/10 for i in range(400)])\n",
    "xtest=xtest[:,np.newaxis]"
   ]
  },
  {
   "cell_type": "code",
   "execution_count": 279,
   "id": "d4cd105d",
   "metadata": {},
   "outputs": [
    {
     "data": {
      "image/png": "[encoded data removed]",
      "text/plain": [
       "<Figure size 432x288 with 1 Axes>"
      ]
     },
     "metadata": {
      "needs_background": "light"
     },
     "output_type": "display_data"
    }
   ],
   "source": [
    "ytest=[]\n",
    "tou=0.8\n",
    "\n",
    "for i in xtest:\n",
    "    wt=np.exp(-np.sum(xtrain-i,axis=1)**2/(2*tou)**2)\n",
    "    w=np.diag(wt)\n",
    "    part1=np.linalg.inv((xtrain.T).dot(w).dot(xtrain))\n",
    "    part2=part1.dot((xtrain.T).dot(w).dot(ytrain))\n",
    "    pred=i.dot(part2)\n",
    "    ytest.append(pred)\n",
    "ytest=np.array(ytest)\n",
    "plt.plot(xtrain.squeeze(),ytrain,'o')\n",
    "plt.plot(xtest.squeeze(),ytest,'*')\n",
    "plt.show()"
   ]
  },
  {
   "cell_type": "markdown",
   "id": "26b9af66",
   "metadata": {},
   "source": [
    "# EM KMeans GaussianMixture"
   ]
  },
  {
   "cell_type": "code",
   "execution_count": 280,
   "id": "85290720",
   "metadata": {},
   "outputs": [],
   "source": [
    "import numpy as np\n",
    "import pandas as pd\n",
    "import matplotlib.pyplot as plt\n",
    "from sklearn import metrics\n",
    "from sklearn import datasets\n",
    "from sklearn.cluster import KMeans\n",
    "from sklearn.mixture import GaussianMixture"
   ]
  },
  {
   "cell_type": "code",
   "execution_count": 281,
   "id": "64263d4d",
   "metadata": {},
   "outputs": [],
   "source": [
    "iris=datasets.load_iris()"
   ]
  },
  {
   "cell_type": "code",
   "execution_count": 282,
   "id": "d99d94d4",
   "metadata": {},
   "outputs": [
    {
     "name": "stdout",
     "output_type": "stream",
     "text": [
      "['sepal length (cm)', 'sepal width (cm)', 'petal length (cm)', 'petal width (cm)'] ['setosa' 'versicolor' 'virginica']\n"
     ]
    }
   ],
   "source": [
    "x=pd.DataFrame(iris.data)\n",
    "print(iris.feature_names,iris.target_names)"
   ]
  },
  {
   "cell_type": "code",
   "execution_count": 283,
   "id": "f52f9791",
   "metadata": {},
   "outputs": [],
   "source": [
    "x.columns=['sepal_length', 'sepal_width', 'petal_length', 'petal_width']"
   ]
  },
  {
   "cell_type": "code",
   "execution_count": 284,
   "id": "83870278",
   "metadata": {},
   "outputs": [],
   "source": [
    "y=pd.DataFrame(iris.target)"
   ]
  },
  {
   "cell_type": "code",
   "execution_count": 285,
   "id": "6d7d8401",
   "metadata": {},
   "outputs": [],
   "source": [
    "y.columns=['Targets']"
   ]
  },
  {
   "cell_type": "code",
   "execution_count": 286,
   "id": "d91da722",
   "metadata": {},
   "outputs": [],
   "source": [
    "kmm=KMeans(n_clusters=3, random_state=100)\n",
    "kmm.fit(x)\n",
    "y_pred=kmm.labels_"
   ]
  },
  {
   "cell_type": "code",
   "execution_count": 287,
   "id": "6dff1a55",
   "metadata": {},
   "outputs": [],
   "source": [
    "gmm=GaussianMixture(n_components=3, covariance_type='full', random_state=100)\n",
    "gmm.fit(x)\n",
    "y_pred_gmm=gmm.predict(x)"
   ]
  },
  {
   "cell_type": "code",
   "execution_count": 288,
   "id": "727514a9",
   "metadata": {},
   "outputs": [
    {
     "data": {
      "text/plain": [
       "Text(0.5, 1.0, 'GMM')"
      ]
     },
     "execution_count": 288,
     "metadata": {},
     "output_type": "execute_result"
    },
    {
     "data": {
      "image/png": "[encoded data removed]",
      "text/plain": [
       "<Figure size 1152x504 with 3 Axes>"
      ]
     },
     "metadata": {
      "needs_background": "light"
     },
     "output_type": "display_data"
    }
   ],
   "source": [
    "colormap=np.array(['red','green','orange'])\n",
    "plt.figure(figsize=(16,7))\n",
    "plt.subplot(1,3,1)\n",
    "plt.scatter(x.petal_length, x.petal_width,c=colormap[y.Targets],s=40)\n",
    "plt.title(\"Real\")\n",
    "plt.subplot(1,3,2)\n",
    "plt.scatter(x.petal_length, x.petal_width,c=colormap[y_pred],s=40)\n",
    "plt.title(\"KMeans\")\n",
    "plt.subplot(1,3,3)\n",
    "plt.scatter(x.petal_length, x.petal_width,c=colormap[y_pred_gmm],s=40)\n",
    "plt.title(\"GMM\")"
   ]
  },
  {
   "cell_type": "code",
   "execution_count": 289,
   "id": "e4558ca3",
   "metadata": {},
   "outputs": [
    {
     "data": {
      "text/plain": [
       "0.8933333333333333"
      ]
     },
     "execution_count": 289,
     "metadata": {},
     "output_type": "execute_result"
    }
   ],
   "source": [
    "metrics.accuracy_score(y,y_pred)"
   ]
  },
  {
   "cell_type": "code",
   "execution_count": 290,
   "id": "6978d524",
   "metadata": {},
   "outputs": [
    {
     "data": {
      "text/plain": [
       "0.9666666666666667"
      ]
     },
     "execution_count": 290,
     "metadata": {},
     "output_type": "execute_result"
    }
   ],
   "source": [
    "metrics.accuracy_score(y,y_pred_gmm)"
   ]
  },
  {
   "cell_type": "code",
   "execution_count": 291,
   "id": "da1a1e76",
   "metadata": {},
   "outputs": [
    {
     "name": "stdout",
     "output_type": "stream",
     "text": [
      "[[50  0  0]\n",
      " [ 0 48  2]\n",
      " [ 0 14 36]]\n"
     ]
    }
   ],
   "source": [
    "print(metrics.confusion_matrix(y,y_pred))"
   ]
  },
  {
   "cell_type": "code",
   "execution_count": 292,
   "id": "2ac96e41",
   "metadata": {},
   "outputs": [
    {
     "name": "stdout",
     "output_type": "stream",
     "text": [
      "[[50  0  0]\n",
      " [ 0 45  5]\n",
      " [ 0  0 50]]\n"
     ]
    }
   ],
   "source": [
    "print(metrics.confusion_matrix(y,y_pred_gmm))"
   ]
  },
  {
   "cell_type": "markdown",
   "id": "4f24b516",
   "metadata": {},
   "source": [
    "# ANN"
   ]
  },
  {
   "cell_type": "code",
   "execution_count": 293,
   "id": "a50e4ed6",
   "metadata": {},
   "outputs": [],
   "source": [
    "import numpy as np\n",
    "x=np.array([[2,9],[1,5],[3,6]],dtype='float')\n",
    "y=np.array([[92],[86],[89]],dtype='float')\n",
    "x=x/np.amax(x,axis=0)\n",
    "actual_output=y/100\n",
    "\n",
    "epochs=1000\n",
    "lr=0.15\n",
    "inp_lay=2\n",
    "hid_lay=3\n",
    "out_lay=1\n",
    "\n",
    "wh=np.random.uniform(low=-0.05,high=0.05,size=(inp_lay,hid_lay))\n",
    "bh=np.random.uniform(low=-0.05,high=0.05,size=(1,hid_lay))\n",
    "wout=np.random.uniform(low=-0.05,high=0.05,size=(hid_lay,out_lay))\n",
    "bout=np.random.uniform(low=-0.05,high=0.05,size=(1,out_lay))"
   ]
  },
  {
   "cell_type": "code",
   "execution_count": 294,
   "id": "25ffec82",
   "metadata": {},
   "outputs": [],
   "source": [
    "def sigmoid(x):\n",
    "    return 1/(1+np.exp(-x))\n",
    "\n",
    "def der_sigmoid(x):\n",
    "    return x*(1-x)"
   ]
  },
  {
   "cell_type": "code",
   "execution_count": 295,
   "id": "00a17f5a",
   "metadata": {},
   "outputs": [],
   "source": [
    "for i in range(epochs):\n",
    "    inph=np.dot(x,wh)+bh\n",
    "    hact=sigmoid(inph)\n",
    "    \n",
    "    inpo=np.dot(hact,wout)+bout\n",
    "    output=sigmoid(inpo)\n",
    "    \n",
    "    hgrad=der_sigmoid(hact)\n",
    "    ograd=der_sigmoid(output)\n",
    "    \n",
    "    EO=actual_output-output\n",
    "    d_out=EO*ograd\n",
    "    \n",
    "    EH=d_out.dot(wout.T)\n",
    "    d_hid=EH*hgrad\n",
    "    \n",
    "    wh+=(x.T.dot(d_hid))*lr\n",
    "    wout+=(hact.T.dot(d_out))*lr"
   ]
  },
  {
   "cell_type": "code",
   "execution_count": 296,
   "id": "36d06f24",
   "metadata": {},
   "outputs": [
    {
     "name": "stdout",
     "output_type": "stream",
     "text": [
      "[[0.66666667 1.        ]\n",
      " [0.33333333 0.55555556]\n",
      " [1.         0.66666667]]\n",
      "[[0.92]\n",
      " [0.86]\n",
      " [0.89]]\n",
      "[[0.89574698]\n",
      " [0.87984212]\n",
      " [0.89436364]]\n"
     ]
    }
   ],
   "source": [
    "print(str(x))\n",
    "print(str(actual_output))\n",
    "print(str(output))"
   ]
  },
  {
   "cell_type": "markdown",
   "id": "3619bab7",
   "metadata": {},
   "source": [
    "# ID3"
   ]
  },
  {
   "cell_type": "code",
   "execution_count": 297,
   "id": "7adc7b78",
   "metadata": {},
   "outputs": [
    {
     "data": {
      "text/plain": [
       "['PlayTennis', 'Outlook', 'Temperature', 'Humidity', 'Wind']"
      ]
     },
     "execution_count": 297,
     "metadata": {},
     "output_type": "execute_result"
    }
   ],
   "source": [
    "import numpy as np\n",
    "import pandas as pd\n",
    "import math\n",
    "data=pd.read_csv(\"PlayTennis.csv\")\n",
    "\n",
    "features=[feat for feat in data]\n",
    "features"
   ]
  },
  {
   "cell_type": "code",
   "execution_count": 298,
   "id": "b235086b",
   "metadata": {},
   "outputs": [
    {
     "data": {
      "text/plain": [
       "['Outlook', 'Temperature', 'Humidity', 'Wind']"
      ]
     },
     "execution_count": 298,
     "metadata": {},
     "output_type": "execute_result"
    }
   ],
   "source": [
    "features.remove('PlayTennis')\n",
    "features"
   ]
  },
  {
   "cell_type": "code",
   "execution_count": 299,
   "id": "04b97d39",
   "metadata": {},
   "outputs": [],
   "source": [
    "class Node:\n",
    "    def __init__(self):\n",
    "        self.value=\"\"\n",
    "        self.children=[]\n",
    "        self.isLeaf=False"
   ]
  },
  {
   "cell_type": "code",
   "execution_count": 300,
   "id": "105369c5",
   "metadata": {},
   "outputs": [],
   "source": [
    "def entropy(examples):\n",
    "    pc=0\n",
    "    nc=0\n",
    "    for i,rows in examples.iterrows():\n",
    "        if rows[\"PlayTennis\"]==\"Yes\":\n",
    "            pc+=1\n",
    "        else:\n",
    "            nc+=1\n",
    "    if pc==0 or nc==0:\n",
    "        return 0.0\n",
    "    else:\n",
    "        p=pc/(pc+nc)\n",
    "        n=nc/(pc+nc)\n",
    "        return -(p*math.log(p,2)+n*math.log(n,2))"
   ]
  },
  {
   "cell_type": "code",
   "execution_count": 301,
   "id": "fdb70e82",
   "metadata": {},
   "outputs": [],
   "source": [
    "def info_gain(examples,attr):\n",
    "    gain=entropy(examples)\n",
    "    \n",
    "    uniq=np.unique(examples[attr])\n",
    "    \n",
    "    for u in uniq:\n",
    "        subdata=examples[examples[attr]==u]\n",
    "        sube=entropy(subdata)\n",
    "        gain-=(float(len(subdata))/float(len(examples)))*sube\n",
    "    \n",
    "    return gain"
   ]
  },
  {
   "cell_type": "code",
   "execution_count": 302,
   "id": "d9a93cd0",
   "metadata": {},
   "outputs": [],
   "source": [
    "def ID3(examples,attr):\n",
    "    root=Node()\n",
    "    \n",
    "    maxgain=0\n",
    "    maxfeat=\"\"\n",
    "    \n",
    "    for feature in attr:\n",
    "        gain=info_gain(examples,feature)\n",
    "        if gain>=maxgain:\n",
    "            maxgain=gain\n",
    "            maxfeat=feature\n",
    "    root.value=maxfeat\n",
    "    \n",
    "    uniq=np.unique(examples[maxfeat])\n",
    "    \n",
    "    for u in uniq:\n",
    "        subdata=examples[examples[maxfeat]==u]\n",
    "        \n",
    "        if entropy(subdata)==0.0:\n",
    "            newNode=Node()\n",
    "            newNode.value=u\n",
    "            newNode.isLeaf=True\n",
    "            newNode.pred=np.unique(subdata[\"PlayTennis\"])\n",
    "            root.children.append(newNode)           \n",
    "        else:\n",
    "            dummyNode=Node()\n",
    "            dummyNode.value=u\n",
    "            new_attr=attr.copy()\n",
    "            new_attr.remove(maxfeat)\n",
    "            child=ID3(subdata,new_attr)\n",
    "            dummyNode.children.append(child)\n",
    "            root.children.append(dummyNode)\n",
    "            \n",
    "    return root"
   ]
  },
  {
   "cell_type": "code",
   "execution_count": 303,
   "id": "62d9abb6",
   "metadata": {},
   "outputs": [],
   "source": [
    "def printTree(root:Node, depth=0):\n",
    "    for i in range(depth):\n",
    "        print('\\t',end=\"\")\n",
    "    print(root.value,end=\"\")\n",
    "    if root.isLeaf:\n",
    "        print(\"->\",root.pred)\n",
    "    print()\n",
    "    for child in root.children:\n",
    "        printTree(child,depth+1)"
   ]
  },
  {
   "cell_type": "code",
   "execution_count": 304,
   "id": "326ea7d8",
   "metadata": {},
   "outputs": [
    {
     "name": "stdout",
     "output_type": "stream",
     "text": [
      "Outlook\n",
      "\tOvercast-> ['Yes']\n",
      "\n",
      "\tRain\n",
      "\t\tWind\n",
      "\t\t\tStrong-> ['No']\n",
      "\n",
      "\t\t\tWeak-> ['Yes']\n",
      "\n",
      "\tSunny\n",
      "\t\tHumidity\n",
      "\t\t\tHigh-> ['No']\n",
      "\n",
      "\t\t\tNormal-> ['Yes']\n",
      "\n"
     ]
    }
   ],
   "source": [
    "root=ID3(data,features)\n",
    "printTree(root)"
   ]
  },
  {
   "cell_type": "code",
   "execution_count": 305,
   "id": "a2179890",
   "metadata": {},
   "outputs": [],
   "source": [
    "def classify(root: Node,new):\n",
    "    for child in root.children:\n",
    "        if child.value==new[root.value]:\n",
    "            if child.isLeaf:\n",
    "                print(\"Predicted label for\",new,\"is:\",child.pred)\n",
    "                exit\n",
    "            else:\n",
    "                classify(child.children[0],new)"
   ]
  },
  {
   "cell_type": "code",
   "execution_count": 306,
   "id": "b474c3ff",
   "metadata": {},
   "outputs": [
    {
     "name": "stdout",
     "output_type": "stream",
     "text": [
      "Predicted label for {'Outlook': 'Sunny', 'Temperature': 'Hot', 'Humidity': 'Normal', 'Wind': 'Strong'} is: ['Yes']\n"
     ]
    }
   ],
   "source": [
    "new = {\"Outlook\":\"Sunny\", \"Temperature\":\"Hot\", \"Humidity\":\"Normal\", \"Wind\":\"Strong\"}\n",
    "classify (root, new)"
   ]
  },
  {
   "cell_type": "markdown",
   "id": "2231f58f",
   "metadata": {},
   "source": [
    "# Naive Bayes"
   ]
  },
  {
   "cell_type": "code",
   "execution_count": 307,
   "id": "02d4d9a3",
   "metadata": {},
   "outputs": [],
   "source": [
    "filename=\"diabetes.csv\"\n",
    "import pandas as pd\n",
    "import numpy as np\n",
    "import math\n",
    "df=pd.read_csv(filename)\n",
    "df=df.astype(float)\n",
    "train=df.sample(frac=0.8, random_state=100)\n",
    "test=df.drop(train.index)"
   ]
  },
  {
   "cell_type": "code",
   "execution_count": 309,
   "id": "02f6fcd9",
   "metadata": {},
   "outputs": [],
   "source": [
    "outcome_group=train.groupby(df.columns[-1])\n",
    "n_attr=len(df.columns)-1\n",
    "summaries={}\n",
    "\n",
    "for classValue,instances in outcome_group:\n",
    "    attr_mv=[]\n",
    "    mean=list(instances.mean(axis=0).values)\n",
    "    std_dev=list(instances.std(axis=0).values)\n",
    "    for i in range(n_attr):\n",
    "        attr_mv.append([mean[i],std_dev[i]])\n",
    "    summaries[classValue]=attr_mv"
   ]
  },
  {
   "cell_type": "code",
   "execution_count": 310,
   "id": "10baa325",
   "metadata": {},
   "outputs": [],
   "source": [
    "def calculateProb(x,mean,stddev):\n",
    "    expval=math.exp(-math.pow(x-mean,2)/(2*math.pow(stddev,2)))\n",
    "    return (1/(math.sqrt(2*math.pi)*math.pow(stddev,2)))*expval"
   ]
  },
  {
   "cell_type": "code",
   "execution_count": 311,
   "id": "1069c794",
   "metadata": {},
   "outputs": [],
   "source": [
    "def calculateClassProb(summaries,x_vec):\n",
    "    probabilities={}\n",
    "    for classValue, classSummaries in summaries.items():\n",
    "        probabilities[classValue]=1\n",
    "        for i in range(len(classSummaries)):\n",
    "            mean,stddev=classSummaries[i]\n",
    "            x=x_vec[i]\n",
    "            probabilities[classValue]*=calculateProb(x,mean,stddev)\n",
    "    return probabilities"
   ]
  },
  {
   "cell_type": "code",
   "execution_count": 312,
   "id": "8699cf0e",
   "metadata": {},
   "outputs": [],
   "source": [
    "def predict(summaries,x_vec):\n",
    "    prob=calculateClassProb(summaries,x_vec)\n",
    "    bestLabel,bestProb=None,-1\n",
    "    \n",
    "    for classValues, probability in prob.items():\n",
    "        if bestLabel is None or probability>bestProb:\n",
    "            bestProb=probability\n",
    "            bestLabel=classValue\n",
    "    return bestLabel"
   ]
  },
  {
   "cell_type": "code",
   "execution_count": 313,
   "id": "8dd6a630",
   "metadata": {},
   "outputs": [],
   "source": [
    "predictions=[]\n",
    "testSet=test.values.tolist()\n",
    "\n",
    "for i in range(len(testSet)):\n",
    "    result= predict(summaries,testSet[i])\n",
    "    predictions.append(result)"
   ]
  },
  {
   "cell_type": "code",
   "execution_count": 314,
   "id": "016aa592",
   "metadata": {
    "scrolled": true
   },
   "outputs": [
    {
     "name": "stdout",
     "output_type": "stream",
     "text": [
      "Split 768 rows into train=614 and test=154\n",
      "Accuracy: 34.41558441558442\n"
     ]
    }
   ],
   "source": [
    "def getAccuracy(test, predictions):\n",
    "    correct = 0\n",
    "    for i in range(len(test)):\n",
    "        if test.iloc[i,-1] == predictions[i]:\n",
    "            correct += 1\n",
    "    return (correct/float(len(testSet))) * 100.0\n",
    "\n",
    "accuracy = getAccuracy(test, predictions)\n",
    "print(f'Split {len(df)} rows into train={len(train)} and test={len(test)}')\n",
    "print(f'Accuracy: {accuracy}')"
   ]
  },
  {
   "cell_type": "code",
   "execution_count": 315,
   "id": "f045c92f",
   "metadata": {},
   "outputs": [
    {
     "name": "stdout",
     "output_type": "stream",
     "text": [
      "Split 768 rows into train=614 and test=154\n",
      "Accuracy: 74.02597402597402\n"
     ]
    }
   ],
   "source": [
    "import pandas as pd\n",
    "import numpy as np\n",
    "\n",
    "from sklearn.naive_bayes import GaussianNB\n",
    "\n",
    "gnb = GaussianNB()\n",
    "data_train = train.iloc[:,:-1]\n",
    "target_train  = train.iloc[:,-1]\n",
    "gnb.fit(data_train, target_train)\n",
    "\n",
    "data_test = test.iloc[:,:-1]\n",
    "y_pred = gnb.predict(data_test)\n",
    "\n",
    "\n",
    "from sklearn import metrics\n",
    "print(f'Split {len(df)} rows into train={len(data_train)} and test={len(data_test)}')\n",
    "print(\"Accuracy:\",(metrics.accuracy_score(test.iloc[:,-1], y_pred)*100))"
   ]
  }
 ],
 "metadata": {
  "kernelspec": {
   "display_name": "Python 3",
   "language": "python",
   "name": "python3"
  },
  "language_info": {
   "codemirror_mode": {
    "name": "ipython",
    "version": 3
   },
   "file_extension": ".py",
   "mimetype": "text/x-python",
   "name": "python",
   "nbconvert_exporter": "python",
   "pygments_lexer": "ipython3",
   "version": "3.8.8"
  }
 },
 "nbformat": 4,
 "nbformat_minor": 5
}
