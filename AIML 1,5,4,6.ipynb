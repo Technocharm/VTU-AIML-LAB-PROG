{
 "cells": [
  {
   "cell_type": "markdown",
   "id": "9851436e",
   "metadata": {},
   "source": [
    "# A*"
   ]
  },
  {
   "cell_type": "code",
   "execution_count": 136,
   "id": "45430395",
   "metadata": {},
   "outputs": [],
   "source": [
    "class Node:\n",
    "    \n",
    "    def __init__(self,value,coord):\n",
    "        self.value=value\n",
    "        self.coord=coord\n",
    "        self.parent=None\n",
    "        self.g=0\n",
    "        self.h=0\n",
    "        \n",
    "    def __str__(self):\n",
    "        s=f'{self.coord} f={self.g+self.h:0.2f} , g={self.g:0.2f}, h={self.h:0.2f}'\n",
    "        return s\n",
    "    \n",
    "    def move_cost(self,other):\n",
    "        return 1"
   ]
  },
  {
   "cell_type": "code",
   "execution_count": 137,
   "id": "99babddc",
   "metadata": {},
   "outputs": [],
   "source": [
    "def children(current,grid):\n",
    "    x,y=current.coord\n",
    "    links=[(x-1,y),(x,y-1),(x,y+1),(x+1,y)]\n",
    "    \n",
    "    valid_link= [link for row in grid for link in row if link.value!=0]\n",
    "    valid_children=[link for link in valid_link if link.coord in links]\n",
    "    return valid_children"
   ]
  },
  {
   "cell_type": "code",
   "execution_count": 138,
   "id": "064ed82f",
   "metadata": {},
   "outputs": [],
   "source": [
    "def manhattan(node, goal):\n",
    "    xN,yN=node.coord\n",
    "    xG,yG=goal.coord\n",
    "    h=abs(xN-xG)+abs(yN-yG)\n",
    "    return h"
   ]
  },
  {
   "cell_type": "code",
   "execution_count": 139,
   "id": "2e02008e",
   "metadata": {},
   "outputs": [],
   "source": [
    "def astar(start , goal , grid):\n",
    "    current= start\n",
    "    openl=list()\n",
    "    closedl=list()\n",
    "    \n",
    "    openl.append(current)\n",
    "    \n",
    "    while openl:\n",
    "        current= min(openl, key=lambda o:o.g+o.h)\n",
    "        \n",
    "        if current==goal:\n",
    "            path=[]\n",
    "            while current.parent:\n",
    "                path.append(current)\n",
    "                current=current.parent\n",
    "            path.append(current)\n",
    "            return path[::-1]\n",
    "        \n",
    "        openl.remove(current)\n",
    "        closedl.append(current)\n",
    "        \n",
    "        for node in children(current,grid):\n",
    "            \n",
    "            if node in closedl:\n",
    "                new_cost=current.g+current.move_cost(node)\n",
    "                if new_cost<=node.g:\n",
    "                    openl.append(node)\n",
    "                    closedl.remove(node)\n",
    "                    \n",
    "            elif node in openl:\n",
    "                new_cost=current.g+current.move_cost(node)\n",
    "                if new_cost<=node.g:\n",
    "                    node.g=new_cost\n",
    "                    node.parent=current\n",
    "                    \n",
    "            else:\n",
    "                node.g=current.g+current.move_cost(node)\n",
    "                node.h=manhattan(node,goal)\n",
    "                node.parent=current\n",
    "                openl.append(node)\n",
    "                \n",
    "    return None"
   ]
  },
  {
   "cell_type": "code",
   "execution_count": 140,
   "id": "68c7c48c",
   "metadata": {},
   "outputs": [],
   "source": [
    "# grid =[[1,1,0,0,0,1,1],\n",
    "#        [1,1,1,1,0,1,1],\n",
    "#        [1,1,1,1,0,1,1],\n",
    "#        [1,1,1,1,0,1,1],\n",
    "#        [1,1,0,0,0,1,1],\n",
    "#        [1,1,1,1,1,1,1],\n",
    "#        [1,1,1,1,1,1,1] ]\n",
    "\n",
    "grid = [[1,1,1,1],\n",
    "        [1,1,1,1],\n",
    "        [1,1,1,1],\n",
    "        [1,1,0,0],\n",
    "        [1,1,0,1]]\n",
    "\n",
    "for x in range(len(grid)):\n",
    "    for y in range(len(grid[x])):\n",
    "        grid[x][y]=Node(grid[x][y],(x,y))\n",
    "        \n",
    "# start=grid[5][1]\n",
    "# goal=grid[1][3]\n",
    "\n",
    "start = grid[4][0]\n",
    "goal = grid [0][3]"
   ]
  },
  {
   "cell_type": "code",
   "execution_count": 141,
   "id": "bd84f348",
   "metadata": {},
   "outputs": [
    {
     "name": "stdout",
     "output_type": "stream",
     "text": [
      "(4, 0) (4, 1) (3, 1) (2, 1) (2, 2) (2, 3) (1, 3) (0, 3) "
     ]
    }
   ],
   "source": [
    "path= astar(start,goal,grid)\n",
    "if path:\n",
    "    for i in path:\n",
    "        print(i.coord,end=\" \")\n",
    "else:\n",
    "    print(\"No path\")"
   ]
  },
  {
   "cell_type": "markdown",
   "id": "741de729",
   "metadata": {},
   "source": [
    "# ANN"
   ]
  },
  {
   "cell_type": "code",
   "execution_count": 142,
   "id": "d35a5eb6",
   "metadata": {},
   "outputs": [],
   "source": [
    "import numpy as np\n",
    "x=np.array(([2,9],[1,5],[3,6]),dtype='float')\n",
    "y=np.array(([92],[86],[89]),dtype='float')\n",
    "x=x/np.amax(x,axis=0)\n",
    "actual_output=y/100"
   ]
  },
  {
   "cell_type": "code",
   "execution_count": 143,
   "id": "f3b73028",
   "metadata": {},
   "outputs": [],
   "source": [
    "lr=0.15\n",
    "epochs=1000\n",
    "inp_layer=2\n",
    "out_layer=1\n",
    "hid_layer=3\n",
    "\n",
    "wh=np.random.uniform(low=-0.05,high=0.05,size=(inp_layer,hid_layer))\n",
    "bh=np.random.uniform(low=-0.05,high=0.05,size=(1,hid_layer))\n",
    "wout=np.random.uniform(low=-0.05,high=0.05,size=(hid_layer,out_layer))\n",
    "bout=np.random.uniform(low=-0.05,high=0.05,size=(1,out_layer))"
   ]
  },
  {
   "cell_type": "code",
   "execution_count": 144,
   "id": "34a35e15",
   "metadata": {},
   "outputs": [],
   "source": [
    "def sigmoid(x):\n",
    "    return 1/(1+np.exp(-x))\n",
    "\n",
    "def der_sigmoid(x):\n",
    "    return x*(1-x)"
   ]
  },
  {
   "cell_type": "code",
   "execution_count": 145,
   "id": "50e8df6b",
   "metadata": {},
   "outputs": [],
   "source": [
    "for i in range(epochs):\n",
    "    hinp=np.dot(x,wh)+bh\n",
    "    hlayer_act=sigmoid(hinp)\n",
    "    \n",
    "    oinp=np.dot(hlayer_act,wout)+bout\n",
    "    output=sigmoid(oinp)\n",
    "    \n",
    "    hgrad=der_sigmoid(hlayer_act)\n",
    "    ograd=der_sigmoid(output)\n",
    "    \n",
    "    EO=actual_output-output\n",
    "    d_output=EO*ograd\n",
    "    \n",
    "    EH=d_output.dot(wout.T)\n",
    "    d_hiddenlayer=EH*hgrad\n",
    "    \n",
    "    wh+=x.T.dot(d_hiddenlayer)*lr\n",
    "    wout+=hlayer_act.T.dot(d_output)*lr"
   ]
  },
  {
   "cell_type": "code",
   "execution_count": 146,
   "id": "c81bfb7c",
   "metadata": {},
   "outputs": [
    {
     "name": "stdout",
     "output_type": "stream",
     "text": [
      "Input [[0.66666667 1.        ]\n",
      " [0.33333333 0.55555556]\n",
      " [1.         0.66666667]]\n",
      "ActualOutput [[0.92]\n",
      " [0.86]\n",
      " [0.89]]\n",
      "PredictedOutput [[0.89595784]\n",
      " [0.87911769]\n",
      " [0.8948187 ]]\n"
     ]
    }
   ],
   "source": [
    "print(\"Input\",str(x))\n",
    "print(\"ActualOutput\",str(actual_output))\n",
    "print(\"PredictedOutput\",str(output))"
   ]
  },
  {
   "cell_type": "markdown",
   "id": "ade8e824",
   "metadata": {},
   "source": [
    "# ID3"
   ]
  },
  {
   "cell_type": "code",
   "execution_count": 147,
   "id": "6eace3d3",
   "metadata": {},
   "outputs": [
    {
     "data": {
      "text/html": [
       "<div>\n",
       "<style scoped>\n",
       "    .dataframe tbody tr th:only-of-type {\n",
       "        vertical-align: middle;\n",
       "    }\n",
       "\n",
       "    .dataframe tbody tr th {\n",
       "        vertical-align: top;\n",
       "    }\n",
       "\n",
       "    .dataframe thead th {\n",
       "        text-align: right;\n",
       "    }\n",
       "</style>\n",
       "<table border=\"1\" class=\"dataframe\">\n",
       "  <thead>\n",
       "    <tr style=\"text-align: right;\">\n",
       "      <th></th>\n",
       "      <th>Outlook</th>\n",
       "      <th>Temperature</th>\n",
       "      <th>Humidity</th>\n",
       "      <th>Wind</th>\n",
       "      <th>PlayTennis</th>\n",
       "    </tr>\n",
       "  </thead>\n",
       "  <tbody>\n",
       "    <tr>\n",
       "      <th>0</th>\n",
       "      <td>Sunny</td>\n",
       "      <td>Hot</td>\n",
       "      <td>High</td>\n",
       "      <td>Weak</td>\n",
       "      <td>No</td>\n",
       "    </tr>\n",
       "    <tr>\n",
       "      <th>1</th>\n",
       "      <td>Sunny</td>\n",
       "      <td>Hot</td>\n",
       "      <td>High</td>\n",
       "      <td>Strong</td>\n",
       "      <td>No</td>\n",
       "    </tr>\n",
       "    <tr>\n",
       "      <th>2</th>\n",
       "      <td>Overcast</td>\n",
       "      <td>Hot</td>\n",
       "      <td>High</td>\n",
       "      <td>Weak</td>\n",
       "      <td>Yes</td>\n",
       "    </tr>\n",
       "    <tr>\n",
       "      <th>3</th>\n",
       "      <td>Rain</td>\n",
       "      <td>Mild</td>\n",
       "      <td>High</td>\n",
       "      <td>Weak</td>\n",
       "      <td>Yes</td>\n",
       "    </tr>\n",
       "    <tr>\n",
       "      <th>4</th>\n",
       "      <td>Rain</td>\n",
       "      <td>Cool</td>\n",
       "      <td>Normal</td>\n",
       "      <td>Weak</td>\n",
       "      <td>Yes</td>\n",
       "    </tr>\n",
       "    <tr>\n",
       "      <th>5</th>\n",
       "      <td>Rain</td>\n",
       "      <td>Cool</td>\n",
       "      <td>Normal</td>\n",
       "      <td>Strong</td>\n",
       "      <td>No</td>\n",
       "    </tr>\n",
       "    <tr>\n",
       "      <th>6</th>\n",
       "      <td>Overcast</td>\n",
       "      <td>Cool</td>\n",
       "      <td>Normal</td>\n",
       "      <td>Strong</td>\n",
       "      <td>Yes</td>\n",
       "    </tr>\n",
       "    <tr>\n",
       "      <th>7</th>\n",
       "      <td>Sunny</td>\n",
       "      <td>Mild</td>\n",
       "      <td>High</td>\n",
       "      <td>Weak</td>\n",
       "      <td>No</td>\n",
       "    </tr>\n",
       "    <tr>\n",
       "      <th>8</th>\n",
       "      <td>Sunny</td>\n",
       "      <td>Cool</td>\n",
       "      <td>Normal</td>\n",
       "      <td>Weak</td>\n",
       "      <td>Yes</td>\n",
       "    </tr>\n",
       "    <tr>\n",
       "      <th>9</th>\n",
       "      <td>Rain</td>\n",
       "      <td>Mild</td>\n",
       "      <td>Normal</td>\n",
       "      <td>Weak</td>\n",
       "      <td>Yes</td>\n",
       "    </tr>\n",
       "    <tr>\n",
       "      <th>10</th>\n",
       "      <td>Sunny</td>\n",
       "      <td>Mild</td>\n",
       "      <td>Normal</td>\n",
       "      <td>Strong</td>\n",
       "      <td>Yes</td>\n",
       "    </tr>\n",
       "    <tr>\n",
       "      <th>11</th>\n",
       "      <td>Overcast</td>\n",
       "      <td>Mild</td>\n",
       "      <td>High</td>\n",
       "      <td>Strong</td>\n",
       "      <td>Yes</td>\n",
       "    </tr>\n",
       "    <tr>\n",
       "      <th>12</th>\n",
       "      <td>Overcast</td>\n",
       "      <td>Hot</td>\n",
       "      <td>Normal</td>\n",
       "      <td>Weak</td>\n",
       "      <td>Yes</td>\n",
       "    </tr>\n",
       "    <tr>\n",
       "      <th>13</th>\n",
       "      <td>Rain</td>\n",
       "      <td>Mild</td>\n",
       "      <td>High</td>\n",
       "      <td>Strong</td>\n",
       "      <td>No</td>\n",
       "    </tr>\n",
       "  </tbody>\n",
       "</table>\n",
       "</div>"
      ],
      "text/plain": [
       "     Outlook Temperature Humidity    Wind PlayTennis\n",
       "0      Sunny         Hot     High    Weak         No\n",
       "1      Sunny         Hot     High  Strong         No\n",
       "2   Overcast         Hot     High    Weak        Yes\n",
       "3       Rain        Mild     High    Weak        Yes\n",
       "4       Rain        Cool   Normal    Weak        Yes\n",
       "5       Rain        Cool   Normal  Strong         No\n",
       "6   Overcast        Cool   Normal  Strong        Yes\n",
       "7      Sunny        Mild     High    Weak         No\n",
       "8      Sunny        Cool   Normal    Weak        Yes\n",
       "9       Rain        Mild   Normal    Weak        Yes\n",
       "10     Sunny        Mild   Normal  Strong        Yes\n",
       "11  Overcast        Mild     High  Strong        Yes\n",
       "12  Overcast         Hot   Normal    Weak        Yes\n",
       "13      Rain        Mild     High  Strong         No"
      ]
     },
     "execution_count": 147,
     "metadata": {},
     "output_type": "execute_result"
    }
   ],
   "source": [
    "import numpy as np\n",
    "import pandas as pd\n",
    "import math\n",
    "\n",
    "data=pd.read_csv('PlayTennis.csv')\n",
    "data"
   ]
  },
  {
   "cell_type": "code",
   "execution_count": 148,
   "id": "150e710c",
   "metadata": {},
   "outputs": [
    {
     "data": {
      "text/plain": [
       "['Outlook', 'Temperature', 'Humidity', 'Wind']"
      ]
     },
     "execution_count": 148,
     "metadata": {},
     "output_type": "execute_result"
    }
   ],
   "source": [
    "features=[feat for feat in data]\n",
    "features.remove(\"PlayTennis\")\n",
    "features"
   ]
  },
  {
   "cell_type": "code",
   "execution_count": 149,
   "id": "b22fb431",
   "metadata": {},
   "outputs": [],
   "source": [
    "class Node:\n",
    "    def __init__(self):\n",
    "        self.value=\"\"\n",
    "        self.children=[]\n",
    "        self.isLeaf=False"
   ]
  },
  {
   "cell_type": "code",
   "execution_count": 150,
   "id": "c87f0f2f",
   "metadata": {},
   "outputs": [],
   "source": [
    "def entropy(examples):\n",
    "    pc=0.0\n",
    "    nc=0.0\n",
    "    for _,row in examples.iterrows():\n",
    "        if row[\"PlayTennis\"]==\"Yes\":\n",
    "            pc+=1\n",
    "        else:\n",
    "            nc+=1\n",
    "    if pc==0.0 or nc==0.0:\n",
    "        return 0.0\n",
    "    else:\n",
    "        p=pc/(pc+nc)\n",
    "        n=nc/(pc+nc)\n",
    "        return -(p*math.log(p,2)+n*math.log(n,2))"
   ]
  },
  {
   "cell_type": "code",
   "execution_count": 151,
   "id": "28540434",
   "metadata": {},
   "outputs": [],
   "source": [
    "def info_gain(examples,attr):\n",
    "    gain=entropy(examples)\n",
    "    uniq=np.unique(examples[attr])\n",
    "    \n",
    "    for u in uniq:\n",
    "        subdata=examples[examples[attr]==u]\n",
    "        sub_e=entropy(subdata)\n",
    "        gain-=(float(len(subdata))/float(len(examples)))*sub_e\n",
    "        \n",
    "    return gain"
   ]
  },
  {
   "cell_type": "code",
   "execution_count": 152,
   "id": "39f368be",
   "metadata": {},
   "outputs": [],
   "source": [
    "def ID3(examples, attr):\n",
    "    max_gain=0.0\n",
    "    max_feat=\"\"\n",
    "    \n",
    "    root=Node()\n",
    "    \n",
    "    for feature in attr:\n",
    "        gain=info_gain(examples,feature)\n",
    "        if gain>=max_gain:\n",
    "            max_gain=gain\n",
    "            max_feat=feature\n",
    "    root.value= max_feat\n",
    "    \n",
    "    uniq=np.unique(examples[max_feat])\n",
    "    \n",
    "    for u in uniq:\n",
    "        subdata=examples[examples[max_feat]==u]\n",
    "        \n",
    "        if entropy(subdata)==0.0:\n",
    "            newNode=Node()\n",
    "            newNode.value=u\n",
    "            newNode.isLeaf=True\n",
    "            newNode.pred=np.unique(subdata[\"PlayTennis\"])\n",
    "            root.children.append(newNode)\n",
    "        else:\n",
    "            dummyNode=Node()\n",
    "            dummyNode.value=u\n",
    "            new_attr=attr.copy()\n",
    "            new_attr.remove(max_feat)\n",
    "            child=ID3(subdata,new_attr)\n",
    "            dummyNode.children.append(child)\n",
    "            root.children.append(dummyNode)\n",
    "            \n",
    "    return root"
   ]
  },
  {
   "cell_type": "code",
   "execution_count": 153,
   "id": "49a4f5d6",
   "metadata": {},
   "outputs": [],
   "source": [
    "def printTree(root:Node, depth=0):\n",
    "    for i in range(depth):\n",
    "        print('\\t',end=\"\")\n",
    "    print(root.value,end=\"\")\n",
    "    if root.isLeaf:\n",
    "        print(\"->\",root.pred)\n",
    "    print()\n",
    "    for child in root.children:\n",
    "        printTree(child,depth+1)"
   ]
  },
  {
   "cell_type": "code",
   "execution_count": 154,
   "id": "d9dab99c",
   "metadata": {},
   "outputs": [
    {
     "name": "stdout",
     "output_type": "stream",
     "text": [
      "Outlook\n",
      "\tOvercast-> ['Yes']\n",
      "\n",
      "\tRain\n",
      "\t\tWind\n",
      "\t\t\tStrong-> ['No']\n",
      "\n",
      "\t\t\tWeak-> ['Yes']\n",
      "\n",
      "\tSunny\n",
      "\t\tHumidity\n",
      "\t\t\tHigh-> ['No']\n",
      "\n",
      "\t\t\tNormal-> ['Yes']\n",
      "\n"
     ]
    }
   ],
   "source": [
    "root=ID3(data,features)\n",
    "printTree(root)"
   ]
  },
  {
   "cell_type": "code",
   "execution_count": 155,
   "id": "0b3cb84b",
   "metadata": {},
   "outputs": [],
   "source": [
    "def classify(root: Node,new):\n",
    "    for child in root.children:\n",
    "        if child.value==new[root.value]:\n",
    "            if child.isLeaf:\n",
    "                print(\"Predicted label for\",new,\"is:\",child.pred)\n",
    "                exit\n",
    "            else:\n",
    "                classify(child.children[0],new)"
   ]
  },
  {
   "cell_type": "code",
   "execution_count": 156,
   "id": "c48c7fc3",
   "metadata": {},
   "outputs": [
    {
     "name": "stdout",
     "output_type": "stream",
     "text": [
      "Predicted label for {'Outlook': 'Sunny', 'Temperature': 'Hot', 'Humidity': 'Normal', 'Wind': 'Strong'} is: ['Yes']\n"
     ]
    }
   ],
   "source": [
    "new = {\"Outlook\":\"Sunny\", \"Temperature\":\"Hot\", \"Humidity\":\"Normal\", \"Wind\":\"Strong\"}\n",
    "classify (root, new)"
   ]
  },
  {
   "cell_type": "markdown",
   "id": "7694211f",
   "metadata": {},
   "source": [
    "# Naive Bayes"
   ]
  },
  {
   "cell_type": "code",
   "execution_count": 214,
   "id": "c6f7e63f",
   "metadata": {},
   "outputs": [],
   "source": [
    "filename=\"diabetes.csv\"\n",
    "import pandas as pd\n",
    "import numpy as np\n",
    "import math\n",
    "df=pd.read_csv(filename)\n",
    "df=df.astype(float)\n",
    "train=df.sample(frac=0.8, random_state=100)\n",
    "test=df.drop(train.index)"
   ]
  },
  {
   "cell_type": "code",
   "execution_count": 215,
   "id": "95a65c10",
   "metadata": {},
   "outputs": [],
   "source": [
    "outcome_group=train.groupby(df.columns[-1])\n",
    "n_attr=len(df.columns)-1\n",
    "summaries={}\n",
    "\n",
    "for classValue,instances in outcome_group:\n",
    "    attr_mv=[]\n",
    "    mean=list(instances.mean(axis=0).values)\n",
    "    std_dev=list(instances.std(axis=0).values)\n",
    "    for i in range(n_attr):\n",
    "        attr_mv.append([mean[i],std_dev[i]])\n",
    "    summaries[classValue]=attr_mv"
   ]
  },
  {
   "cell_type": "code",
   "execution_count": 216,
   "id": "ec34934a",
   "metadata": {},
   "outputs": [],
   "source": [
    "def calculateProb(x,mean,stddev):\n",
    "    expval=math.exp(-math.pow((x-mean),2)/(2*math.pow(stddev,2)))\n",
    "    return (1/(math.sqrt(2*math.pi*math.pow(stddev,2))))*expval"
   ]
  },
  {
   "cell_type": "code",
   "execution_count": 217,
   "id": "ab84cfd6",
   "metadata": {},
   "outputs": [],
   "source": [
    "def calculateClassProb(summaries,x_vec):\n",
    "    probabilities={}\n",
    "    for classValue, classSummaries in summaries.items():\n",
    "        probabilities[classValue]=1\n",
    "        for i in range(len(classSummaries)):\n",
    "            mean,stddev=classSummaries[i]\n",
    "            x=x_vec[i]\n",
    "            probabilities[classValue]*=calculateProb(x,mean,stddev)\n",
    "    return probabilities"
   ]
  },
  {
   "cell_type": "code",
   "execution_count": 218,
   "id": "cad1cce4",
   "metadata": {},
   "outputs": [],
   "source": [
    "def predict(summaries,x_vec):\n",
    "    prob=calculateClassProb(summaries,x_vec)\n",
    "    bestLabel,bestProb=None,-1\n",
    "    \n",
    "    for classValues, probability in prob.items():\n",
    "        if bestLabel is None or probability>bestProb:\n",
    "            bestProb=probability\n",
    "            bestLabel=classValue\n",
    "    return bestLabel"
   ]
  },
  {
   "cell_type": "code",
   "execution_count": 219,
   "id": "648f5b41",
   "metadata": {},
   "outputs": [],
   "source": [
    "predictions=[]\n",
    "testSet=test.values.tolist()\n",
    "\n",
    "for i in range(len(testSet)):\n",
    "    result= predict(summaries,testSet[i])\n",
    "    predictions.append(result)"
   ]
  },
  {
   "cell_type": "code",
   "execution_count": 220,
   "id": "fd9e5cae",
   "metadata": {},
   "outputs": [
    {
     "name": "stdout",
     "output_type": "stream",
     "text": [
      "Split 768 rows into train=614 and test=154\n",
      "Accuracy: 34.41558441558442\n"
     ]
    }
   ],
   "source": [
    "def getAccuracy(test, predictions):\n",
    "    correct = 0\n",
    "    for i in range(len(test)):\n",
    "        if test.iloc[i,-1] == predictions[i]:\n",
    "            correct += 1\n",
    "    return (correct/float(len(testSet))) * 100.0\n",
    "\n",
    "accuracy = getAccuracy(test, predictions)\n",
    "print(f'Split {len(df)} rows into train={len(train)} and test={len(test)}')\n",
    "print(f'Accuracy: {accuracy}')"
   ]
  }
 ],
 "metadata": {
  "kernelspec": {
   "display_name": "Python 3",
   "language": "python",
   "name": "python3"
  },
  "language_info": {
   "codemirror_mode": {
    "name": "ipython",
    "version": 3
   },
   "file_extension": ".py",
   "mimetype": "text/x-python",
   "name": "python",
   "nbconvert_exporter": "python",
   "pygments_lexer": "ipython3",
   "version": "3.8.8"
  }
 },
 "nbformat": 4,
 "nbformat_minor": 5
}
