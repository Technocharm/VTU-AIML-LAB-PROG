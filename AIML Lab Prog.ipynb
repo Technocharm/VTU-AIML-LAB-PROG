{
 "cells": [
  {
   "cell_type": "markdown",
   "id": "6c1aa8aa",
   "metadata": {},
   "source": [
    "# LW Regression"
   ]
  },
  {
   "cell_type": "code",
   "execution_count": 52,
   "id": "ab728ef9",
   "metadata": {},
   "outputs": [],
   "source": [
    "import numpy as np\n",
    "import matplotlib.pyplot as plt"
   ]
  },
  {
   "cell_type": "code",
   "execution_count": 53,
   "id": "e805b37a",
   "metadata": {},
   "outputs": [
    {
     "data": {
      "text/plain": [
       "array([ 3. ,  4. ,  5. ,  6. ,  7. ,  8. ,  9. , 10. , 11. , 12. , 13. ,\n",
       "       14. , 15. , 16. , 17. , 18. , 19. , 20. , 21. , 22. , 23. , 24. ,\n",
       "       25. , 26. , 27. , 28. , 29. , 30. , 31. , 32. ,  3.2,  4.2])"
      ]
     },
     "execution_count": 53,
     "metadata": {},
     "output_type": "execute_result"
    }
   ],
   "source": [
    "tou=0.8\n",
    "x_train=np.array(list(range(3,33))+[3.2,4.2])\n",
    "x_train"
   ]
  },
  {
   "cell_type": "code",
   "execution_count": 54,
   "id": "e5d2864e",
   "metadata": {},
   "outputs": [
    {
     "data": {
      "text/plain": [
       "(32, 1)"
      ]
     },
     "execution_count": 54,
     "metadata": {},
     "output_type": "execute_result"
    }
   ],
   "source": [
    "x_train=x_train[:,np.newaxis]\n",
    "x_train.shape"
   ]
  },
  {
   "cell_type": "code",
   "execution_count": 55,
   "id": "b240aa3f",
   "metadata": {},
   "outputs": [],
   "source": [
    "y_train=np.array([1,2,1,2,1,2,3,3,1,3,1,1,3,4,5,6,7,8,8,9,11,12,13,11,12,12,13,15,16,17,18,19])\n",
    "y_train=y_train[:,np.newaxis]"
   ]
  },
  {
   "cell_type": "code",
   "execution_count": 56,
   "id": "979f823f",
   "metadata": {},
   "outputs": [],
   "source": [
    "x_test=np.array([i/10 for i in range(400)])\n",
    "x_test=x_test[:,np.newaxis]\n",
    "# x_test"
   ]
  },
  {
   "cell_type": "code",
   "execution_count": 57,
   "id": "fb5ae326",
   "metadata": {},
   "outputs": [
    {
     "data": {
      "image/png": "[encoded data removed]",
      "text/plain": [
       "<Figure size 432x288 with 1 Axes>"
      ]
     },
     "metadata": {
      "needs_background": "light"
     },
     "output_type": "display_data"
    }
   ],
   "source": [
    "y_test=[]\n",
    "\n",
    "for i in x_test:\n",
    "#     print(i)\n",
    "    try:\n",
    "        wt=np.exp(-np.sum((x_train-i)**2,axis=1)/(2*tou)**2)\n",
    "        w=np.diag(wt)\n",
    "        part1=np.linalg.inv(x_train.T.dot(w).dot(x_train))\n",
    "        part2=part1.dot(x_train.T).dot(w).dot(y_train)\n",
    "        prediction=i.dot(part2)\n",
    "        y_test.append(prediction)\n",
    "    except:\n",
    "        pass\n",
    "y_test=np.array(y_test)\n",
    "plt.plot(x_train.squeeze(),y_train,'o')\n",
    "plt.plot(x_test.squeeze(),y_test,'*')\n",
    "plt.show()"
   ]
  },
  {
   "cell_type": "markdown",
   "id": "724e4a7f",
   "metadata": {},
   "source": [
    "# KNN Classifier"
   ]
  },
  {
   "cell_type": "code",
   "execution_count": 58,
   "id": "a63a8a20",
   "metadata": {},
   "outputs": [],
   "source": [
    "from sklearn import datasets\n",
    "iris=datasets.load_iris()\n",
    "x=iris.data\n",
    "y=iris.target"
   ]
  },
  {
   "cell_type": "code",
   "execution_count": 59,
   "id": "de1adb3a",
   "metadata": {},
   "outputs": [],
   "source": [
    "from sklearn.model_selection import train_test_split\n",
    "xtrain,xtest,ytrain,ytest=train_test_split(x,y,test_size=0.20,random_state=23)"
   ]
  },
  {
   "cell_type": "code",
   "execution_count": 60,
   "id": "fb232e26",
   "metadata": {},
   "outputs": [
    {
     "name": "stderr",
     "output_type": "stream",
     "text": [
      "C:\\Users\\vinee\\anaconda3\\lib\\site-packages\\sklearn\\neighbors\\_classification.py:211: FutureWarning: Unlike other reduction functions (e.g. `skew`, `kurtosis`), the default behavior of `mode` typically preserves the axis it acts along. In SciPy 1.11.0, this behavior will change: the default value of `keepdims` will become False, the `axis` over which the statistic is taken will be eliminated, and the value None will no longer be accepted. Set `keepdims` to True or False to avoid this warning.\n",
      "  mode, _ = stats.mode(_y[neigh_ind, k], axis=1)\n"
     ]
    }
   ],
   "source": [
    "from sklearn.neighbors import KNeighborsClassifier\n",
    "knn=KNeighborsClassifier(n_neighbors=3)\n",
    "knn.fit(xtrain,ytrain)\n",
    "y_pred=knn.predict(xtest)"
   ]
  },
  {
   "cell_type": "code",
   "execution_count": 61,
   "id": "913e0ce5",
   "metadata": {},
   "outputs": [
    {
     "name": "stdout",
     "output_type": "stream",
     "text": [
      "0.9666666666666667\n",
      "[[12  0  0]\n",
      " [ 0  8  0]\n",
      " [ 0  1  9]]\n",
      "              precision    recall  f1-score   support\n",
      "\n",
      "           0       1.00      1.00      1.00        12\n",
      "           1       0.89      1.00      0.94         8\n",
      "           2       1.00      0.90      0.95        10\n",
      "\n",
      "    accuracy                           0.97        30\n",
      "   macro avg       0.96      0.97      0.96        30\n",
      "weighted avg       0.97      0.97      0.97        30\n",
      "\n"
     ]
    }
   ],
   "source": [
    "from sklearn import metrics\n",
    "print(metrics.accuracy_score(y_pred,ytest))\n",
    "print(metrics.confusion_matrix(ytest,y_pred))\n",
    "print(metrics.classification_report(ytest,y_pred))"
   ]
  },
  {
   "cell_type": "code",
   "execution_count": 62,
   "id": "fbd95a29",
   "metadata": {},
   "outputs": [
    {
     "name": "stdout",
     "output_type": "stream",
     "text": [
      "29 1\n"
     ]
    }
   ],
   "source": [
    "mat=metrics.confusion_matrix(ytest,y_pred)\n",
    "# mat\n",
    "c=0\n",
    "w=0\n",
    "for i in range(len(mat)):\n",
    "    for j in range(len(mat[0])):\n",
    "        if i==j:\n",
    "            c+=mat[i][j]\n",
    "        else:\n",
    "            w+=mat[i][j]\n",
    "print(c,w)"
   ]
  },
  {
   "cell_type": "markdown",
   "id": "7a37d6af",
   "metadata": {},
   "source": [
    "# EM KMean GaussianMixture"
   ]
  },
  {
   "cell_type": "code",
   "execution_count": 63,
   "id": "4d7149dc",
   "metadata": {},
   "outputs": [],
   "source": [
    "import numpy as np\n",
    "import pandas as pd\n",
    "import matplotlib.pyplot as plt\n",
    "from sklearn import datasets\n",
    "from sklearn import metrics\n",
    "from sklearn.cluster import KMeans\n",
    "from sklearn.mixture import GaussianMixture"
   ]
  },
  {
   "cell_type": "code",
   "execution_count": 64,
   "id": "d2f52d38",
   "metadata": {},
   "outputs": [
    {
     "name": "stdout",
     "output_type": "stream",
     "text": [
      "[[5.1 3.5 1.4 0.2]\n",
      " [4.9 3.  1.4 0.2]\n",
      " [4.7 3.2 1.3 0.2]\n",
      " [4.6 3.1 1.5 0.2]\n",
      " [5.  3.6 1.4 0.2]\n",
      " [5.4 3.9 1.7 0.4]\n",
      " [4.6 3.4 1.4 0.3]\n",
      " [5.  3.4 1.5 0.2]\n",
      " [4.4 2.9 1.4 0.2]\n",
      " [4.9 3.1 1.5 0.1]\n",
      " [5.4 3.7 1.5 0.2]\n",
      " [4.8 3.4 1.6 0.2]\n",
      " [4.8 3.  1.4 0.1]\n",
      " [4.3 3.  1.1 0.1]\n",
      " [5.8 4.  1.2 0.2]\n",
      " [5.7 4.4 1.5 0.4]\n",
      " [5.4 3.9 1.3 0.4]\n",
      " [5.1 3.5 1.4 0.3]\n",
      " [5.7 3.8 1.7 0.3]\n",
      " [5.1 3.8 1.5 0.3]\n",
      " [5.4 3.4 1.7 0.2]\n",
      " [5.1 3.7 1.5 0.4]\n",
      " [4.6 3.6 1.  0.2]\n",
      " [5.1 3.3 1.7 0.5]\n",
      " [4.8 3.4 1.9 0.2]\n",
      " [5.  3.  1.6 0.2]\n",
      " [5.  3.4 1.6 0.4]\n",
      " [5.2 3.5 1.5 0.2]\n",
      " [5.2 3.4 1.4 0.2]\n",
      " [4.7 3.2 1.6 0.2]\n",
      " [4.8 3.1 1.6 0.2]\n",
      " [5.4 3.4 1.5 0.4]\n",
      " [5.2 4.1 1.5 0.1]\n",
      " [5.5 4.2 1.4 0.2]\n",
      " [4.9 3.1 1.5 0.2]\n",
      " [5.  3.2 1.2 0.2]\n",
      " [5.5 3.5 1.3 0.2]\n",
      " [4.9 3.6 1.4 0.1]\n",
      " [4.4 3.  1.3 0.2]\n",
      " [5.1 3.4 1.5 0.2]\n",
      " [5.  3.5 1.3 0.3]\n",
      " [4.5 2.3 1.3 0.3]\n",
      " [4.4 3.2 1.3 0.2]\n",
      " [5.  3.5 1.6 0.6]\n",
      " [5.1 3.8 1.9 0.4]\n",
      " [4.8 3.  1.4 0.3]\n",
      " [5.1 3.8 1.6 0.2]\n",
      " [4.6 3.2 1.4 0.2]\n",
      " [5.3 3.7 1.5 0.2]\n",
      " [5.  3.3 1.4 0.2]\n",
      " [7.  3.2 4.7 1.4]\n",
      " [6.4 3.2 4.5 1.5]\n",
      " [6.9 3.1 4.9 1.5]\n",
      " [5.5 2.3 4.  1.3]\n",
      " [6.5 2.8 4.6 1.5]\n",
      " [5.7 2.8 4.5 1.3]\n",
      " [6.3 3.3 4.7 1.6]\n",
      " [4.9 2.4 3.3 1. ]\n",
      " [6.6 2.9 4.6 1.3]\n",
      " [5.2 2.7 3.9 1.4]\n",
      " [5.  2.  3.5 1. ]\n",
      " [5.9 3.  4.2 1.5]\n",
      " [6.  2.2 4.  1. ]\n",
      " [6.1 2.9 4.7 1.4]\n",
      " [5.6 2.9 3.6 1.3]\n",
      " [6.7 3.1 4.4 1.4]\n",
      " [5.6 3.  4.5 1.5]\n",
      " [5.8 2.7 4.1 1. ]\n",
      " [6.2 2.2 4.5 1.5]\n",
      " [5.6 2.5 3.9 1.1]\n",
      " [5.9 3.2 4.8 1.8]\n",
      " [6.1 2.8 4.  1.3]\n",
      " [6.3 2.5 4.9 1.5]\n",
      " [6.1 2.8 4.7 1.2]\n",
      " [6.4 2.9 4.3 1.3]\n",
      " [6.6 3.  4.4 1.4]\n",
      " [6.8 2.8 4.8 1.4]\n",
      " [6.7 3.  5.  1.7]\n",
      " [6.  2.9 4.5 1.5]\n",
      " [5.7 2.6 3.5 1. ]\n",
      " [5.5 2.4 3.8 1.1]\n",
      " [5.5 2.4 3.7 1. ]\n",
      " [5.8 2.7 3.9 1.2]\n",
      " [6.  2.7 5.1 1.6]\n",
      " [5.4 3.  4.5 1.5]\n",
      " [6.  3.4 4.5 1.6]\n",
      " [6.7 3.1 4.7 1.5]\n",
      " [6.3 2.3 4.4 1.3]\n",
      " [5.6 3.  4.1 1.3]\n",
      " [5.5 2.5 4.  1.3]\n",
      " [5.5 2.6 4.4 1.2]\n",
      " [6.1 3.  4.6 1.4]\n",
      " [5.8 2.6 4.  1.2]\n",
      " [5.  2.3 3.3 1. ]\n",
      " [5.6 2.7 4.2 1.3]\n",
      " [5.7 3.  4.2 1.2]\n",
      " [5.7 2.9 4.2 1.3]\n",
      " [6.2 2.9 4.3 1.3]\n",
      " [5.1 2.5 3.  1.1]\n",
      " [5.7 2.8 4.1 1.3]\n",
      " [6.3 3.3 6.  2.5]\n",
      " [5.8 2.7 5.1 1.9]\n",
      " [7.1 3.  5.9 2.1]\n",
      " [6.3 2.9 5.6 1.8]\n",
      " [6.5 3.  5.8 2.2]\n",
      " [7.6 3.  6.6 2.1]\n",
      " [4.9 2.5 4.5 1.7]\n",
      " [7.3 2.9 6.3 1.8]\n",
      " [6.7 2.5 5.8 1.8]\n",
      " [7.2 3.6 6.1 2.5]\n",
      " [6.5 3.2 5.1 2. ]\n",
      " [6.4 2.7 5.3 1.9]\n",
      " [6.8 3.  5.5 2.1]\n",
      " [5.7 2.5 5.  2. ]\n",
      " [5.8 2.8 5.1 2.4]\n",
      " [6.4 3.2 5.3 2.3]\n",
      " [6.5 3.  5.5 1.8]\n",
      " [7.7 3.8 6.7 2.2]\n",
      " [7.7 2.6 6.9 2.3]\n",
      " [6.  2.2 5.  1.5]\n",
      " [6.9 3.2 5.7 2.3]\n",
      " [5.6 2.8 4.9 2. ]\n",
      " [7.7 2.8 6.7 2. ]\n",
      " [6.3 2.7 4.9 1.8]\n",
      " [6.7 3.3 5.7 2.1]\n",
      " [7.2 3.2 6.  1.8]\n",
      " [6.2 2.8 4.8 1.8]\n",
      " [6.1 3.  4.9 1.8]\n",
      " [6.4 2.8 5.6 2.1]\n",
      " [7.2 3.  5.8 1.6]\n",
      " [7.4 2.8 6.1 1.9]\n",
      " [7.9 3.8 6.4 2. ]\n",
      " [6.4 2.8 5.6 2.2]\n",
      " [6.3 2.8 5.1 1.5]\n",
      " [6.1 2.6 5.6 1.4]\n",
      " [7.7 3.  6.1 2.3]\n",
      " [6.3 3.4 5.6 2.4]\n",
      " [6.4 3.1 5.5 1.8]\n",
      " [6.  3.  4.8 1.8]\n",
      " [6.9 3.1 5.4 2.1]\n",
      " [6.7 3.1 5.6 2.4]\n",
      " [6.9 3.1 5.1 2.3]\n",
      " [5.8 2.7 5.1 1.9]\n",
      " [6.8 3.2 5.9 2.3]\n",
      " [6.7 3.3 5.7 2.5]\n",
      " [6.7 3.  5.2 2.3]\n",
      " [6.3 2.5 5.  1.9]\n",
      " [6.5 3.  5.2 2. ]\n",
      " [6.2 3.4 5.4 2.3]\n",
      " [5.9 3.  5.1 1.8]] ['sepal length (cm)', 'sepal width (cm)', 'petal length (cm)', 'petal width (cm)'] [0 0 0 0 0 0 0 0 0 0 0 0 0 0 0 0 0 0 0 0 0 0 0 0 0 0 0 0 0 0 0 0 0 0 0 0 0\n",
      " 0 0 0 0 0 0 0 0 0 0 0 0 0 1 1 1 1 1 1 1 1 1 1 1 1 1 1 1 1 1 1 1 1 1 1 1 1\n",
      " 1 1 1 1 1 1 1 1 1 1 1 1 1 1 1 1 1 1 1 1 1 1 1 1 1 1 2 2 2 2 2 2 2 2 2 2 2\n",
      " 2 2 2 2 2 2 2 2 2 2 2 2 2 2 2 2 2 2 2 2 2 2 2 2 2 2 2 2 2 2 2 2 2 2 2 2 2\n",
      " 2 2] ['setosa' 'versicolor' 'virginica']\n"
     ]
    }
   ],
   "source": [
    "iris=datasets.load_iris()\n",
    "print(iris.data,iris.feature_names,iris.target,iris.target_names)"
   ]
  },
  {
   "cell_type": "code",
   "execution_count": 65,
   "id": "44bff880",
   "metadata": {},
   "outputs": [],
   "source": [
    "x=pd.DataFrame(iris.data)\n",
    "x.columns=['sepal_length', 'sepal_width', 'petal_length', 'petal_width']\n",
    "y=pd.DataFrame(iris.target)\n",
    "y.columns=['Targets']"
   ]
  },
  {
   "cell_type": "code",
   "execution_count": 66,
   "id": "1e401b78",
   "metadata": {},
   "outputs": [],
   "source": [
    "model=KMeans(n_clusters=3,random_state=100)\n",
    "model.fit(x)\n",
    "y_pred=model.labels_"
   ]
  },
  {
   "cell_type": "code",
   "execution_count": 67,
   "id": "4a1262f2",
   "metadata": {},
   "outputs": [],
   "source": [
    "gmm=GaussianMixture(n_components=3,covariance_type='full',random_state=100)\n",
    "gmm.fit(x)\n",
    "y_pred_gmm=gmm.predict(x)"
   ]
  },
  {
   "cell_type": "code",
   "execution_count": 68,
   "id": "a73d9338",
   "metadata": {},
   "outputs": [
    {
     "data": {
      "text/plain": [
       "Text(0.5, 1.0, 'GMM')"
      ]
     },
     "execution_count": 68,
     "metadata": {},
     "output_type": "execute_result"
    },
    {
     "data": {
      "image/png": "[encoded data removed]",
      "text/plain": [
       "<Figure size 1152x504 with 3 Axes>"
      ]
     },
     "metadata": {
      "needs_background": "light"
     },
     "output_type": "display_data"
    }
   ],
   "source": [
    "colormap=np.array(['red','lime','black'])\n",
    "plt.figure(figsize=(16,7))\n",
    "plt.subplot(1,3,1)\n",
    "plt.scatter(x.petal_length,x.petal_width,c=colormap[y.Targets],s=40)\n",
    "plt.title(\"Real\")\n",
    "plt.subplot(1,3,2)\n",
    "plt.scatter(x.petal_length,x.petal_width,c=colormap[y_pred],s=40)\n",
    "plt.title(\"KMeans\")\n",
    "plt.subplot(1,3,3)\n",
    "plt.scatter(x.petal_length,x.petal_width,c=colormap[y_pred_gmm],s=40)\n",
    "plt.title(\"GMM\")"
   ]
  },
  {
   "cell_type": "code",
   "execution_count": 69,
   "id": "3d93e208",
   "metadata": {},
   "outputs": [
    {
     "name": "stdout",
     "output_type": "stream",
     "text": [
      "KMeans\n",
      " 0.8933333333333333\n",
      "KMeans\n",
      " [[50  0  0]\n",
      " [ 0 48  2]\n",
      " [ 0 14 36]]\n",
      "GMM\n",
      " 0.9666666666666667\n",
      "GMM\n",
      " [[50  0  0]\n",
      " [ 0 45  5]\n",
      " [ 0  0 50]]\n"
     ]
    }
   ],
   "source": [
    "print(\"KMeans\\n\",metrics.accuracy_score(y,y_pred))\n",
    "print(\"KMeans\\n\",metrics.confusion_matrix(y,y_pred))\n",
    "print(\"GMM\\n\",metrics.accuracy_score(y,y_pred_gmm))\n",
    "print(\"GMM\\n\",metrics.confusion_matrix(y,y_pred_gmm))"
   ]
  },
  {
   "cell_type": "markdown",
   "id": "9d4e6331",
   "metadata": {},
   "source": [
    "# Naive Bayes"
   ]
  },
  {
   "cell_type": "code",
   "execution_count": 70,
   "id": "263c4693",
   "metadata": {},
   "outputs": [
    {
     "name": "stdout",
     "output_type": "stream",
     "text": [
      "     Pregnancies  Glucose  BloodPressure  SkinThickness  Insulin   BMI  \\\n",
      "173          1.0     79.0           60.0           42.0     48.0  43.5   \n",
      "253          0.0     86.0           68.0           32.0      0.0  35.8   \n",
      "207          5.0    162.0          104.0            0.0      0.0  37.7   \n",
      "737          8.0     65.0           72.0           23.0      0.0  32.0   \n",
      "191          9.0    123.0           70.0           44.0     94.0  33.1   \n",
      "..           ...      ...            ...            ...      ...   ...   \n",
      "401          6.0    137.0           61.0            0.0      0.0  24.2   \n",
      "82           7.0     83.0           78.0           26.0     71.0  29.3   \n",
      "650          1.0     91.0           54.0           25.0    100.0  25.2   \n",
      "721          1.0    114.0           66.0           36.0    200.0  38.1   \n",
      "74           1.0     79.0           75.0           30.0      0.0  32.0   \n",
      "\n",
      "     DiabetesPedigreeFunction   Age  Outcome  \n",
      "173                     0.678  23.0      0.0  \n",
      "253                     0.238  25.0      0.0  \n",
      "207                     0.151  52.0      1.0  \n",
      "737                     0.600  42.0      0.0  \n",
      "191                     0.374  40.0      0.0  \n",
      "..                        ...   ...      ...  \n",
      "401                     0.151  55.0      0.0  \n",
      "82                      0.767  36.0      0.0  \n",
      "650                     0.234  23.0      0.0  \n",
      "721                     0.289  21.0      0.0  \n",
      "74                      0.396  22.0      0.0  \n",
      "\n",
      "[614 rows x 9 columns]\n",
      "     Pregnancies  Glucose  BloodPressure  SkinThickness  Insulin   BMI  \\\n",
      "0            6.0    148.0           72.0           35.0      0.0  33.6   \n",
      "2            8.0    183.0           64.0            0.0      0.0  23.3   \n",
      "4            0.0    137.0           40.0           35.0    168.0  43.1   \n",
      "13           1.0    189.0           60.0           23.0    846.0  30.1   \n",
      "14           5.0    166.0           72.0           19.0    175.0  25.8   \n",
      "..           ...      ...            ...            ...      ...   ...   \n",
      "733          2.0    106.0           56.0           27.0    165.0  29.0   \n",
      "738          2.0     99.0           60.0           17.0    160.0  36.6   \n",
      "752          3.0    108.0           62.0           24.0      0.0  26.0   \n",
      "763         10.0    101.0           76.0           48.0    180.0  32.9   \n",
      "764          2.0    122.0           70.0           27.0      0.0  36.8   \n",
      "\n",
      "     DiabetesPedigreeFunction   Age  Outcome  \n",
      "0                       0.627  50.0      1.0  \n",
      "2                       0.672  32.0      1.0  \n",
      "4                       2.288  33.0      1.0  \n",
      "13                      0.398  59.0      1.0  \n",
      "14                      0.587  51.0      1.0  \n",
      "..                        ...   ...      ...  \n",
      "733                     0.426  22.0      0.0  \n",
      "738                     0.453  21.0      0.0  \n",
      "752                     0.223  25.0      0.0  \n",
      "763                     0.171  63.0      0.0  \n",
      "764                     0.340  27.0      0.0  \n",
      "\n",
      "[154 rows x 9 columns]\n"
     ]
    }
   ],
   "source": [
    "filename = 'diabetes.csv'\n",
    "import pandas as pd\n",
    "import numpy as np\n",
    "\n",
    "df= pd.read_csv(filename)\n",
    "df = df.astype(float)\n",
    "\n",
    "train=df.sample(frac=0.8,random_state=100)\n",
    "print(train)\n",
    "test=df.drop(train.index)\n",
    "print(test)"
   ]
  },
  {
   "cell_type": "code",
   "execution_count": 71,
   "id": "50e62013",
   "metadata": {},
   "outputs": [
    {
     "name": "stdout",
     "output_type": "stream",
     "text": [
      "Split 768 rows into train=614 and test=154\n",
      "Accuracy: 74.02597402597402\n"
     ]
    }
   ],
   "source": [
    "from sklearn.naive_bayes import GaussianNB\n",
    "\n",
    "gnb = GaussianNB()\n",
    "data_train = train.iloc[:,:-1]\n",
    "target_train  = train.iloc[:,-1]\n",
    "gnb.fit(data_train, target_train)\n",
    "\n",
    "data_test = test.iloc[:,:-1]\n",
    "y_pred = gnb.predict(data_test)\n",
    "\n",
    "\n",
    "from sklearn import metrics\n",
    "print(f'Split {len(df)} rows into train={len(data_train)} and test={len(data_test)}')\n",
    "print(\"Accuracy:\",(metrics.accuracy_score(test.iloc[:,-1], y_pred)*100))"
   ]
  },
  {
   "cell_type": "code",
   "execution_count": 72,
   "id": "3da12492",
   "metadata": {},
   "outputs": [
    {
     "name": "stdout",
     "output_type": "stream",
     "text": [
      "Split 768 rows into train=614 and test=154\n",
      "Accuracy: 74.67532467532467\n"
     ]
    }
   ],
   "source": [
    "outcome_group = train.groupby(df.columns[-1])\n",
    "n_attr = len(df.columns) -1\n",
    "summaries = {}\n",
    "\n",
    "for classValue, instances in outcome_group:\n",
    "    attr_mv=[]\n",
    "    mean=list(instances.mean(axis=0).values)\n",
    "    stdev=list(instances.std(axis=0).values)\n",
    "    for i in range(n_attr):\n",
    "        attr_mv.append([mean[i],stdev[i]])\n",
    "        \n",
    "    summaries[classValue]=attr_mv\n",
    "\n",
    "import math\n",
    "def calculateProb(x, mean, stdev):\n",
    "    exponent = math.exp(-math.pow(x-mean,2)/(2*math.pow(stdev,2)))\n",
    "    return (1 / (math.sqrt(2*math.pi)*math.pow(stdev,2))) * exponent\n",
    "  \n",
    "\n",
    "def calculateClassProb(summaries, X_vec):\n",
    "    probabilities = {}\n",
    "    for classValue, classSummaries in summaries.items():\n",
    "        probabilities[classValue] = 1\n",
    "        for i in range(len(classSummaries)):\n",
    "            mean, stdev = classSummaries[i]\n",
    "            x = X_vec[i]\n",
    "            probabilities[classValue] *= calculateProb(x, mean, stdev)         \n",
    "    return probabilities \n",
    "   \n",
    "def predict(summaries, X_vec):\n",
    "    prob = calculateClassProb(summaries, X_vec)\n",
    "    bestLabel, bestProb = None, -1\n",
    "    for classValue, probability in prob.items():\n",
    "        if bestLabel is None or probability > bestProb:\n",
    "            bestProb = probability\n",
    "            bestLabel = classValue\n",
    "    return bestLabel\n",
    "\n",
    "predictions = []\n",
    "testSet=test.values.tolist()\n",
    "\n",
    "for i in range(len(testSet)):\n",
    "    result = predict(summaries, testSet[i])\n",
    "    predictions.append(result)\n",
    "\n",
    "def getAccuracy(test, predictions):\n",
    "    correct = 0\n",
    "    for i in range(len(test)):\n",
    "        if test.iloc[i,-1] == predictions[i]:\n",
    "            correct += 1\n",
    "    return (correct/float(len(testSet))) * 100.0\n",
    "\n",
    "accuracy = getAccuracy(test, predictions)\n",
    "print(f'Split {len(df)} rows into train={len(train)} and test={len(test)}')\n",
    "print(f'Accuracy: {accuracy}')"
   ]
  }
 ],
 "metadata": {
  "kernelspec": {
   "display_name": "Python 3",
   "language": "python",
   "name": "python3"
  },
  "language_info": {
   "codemirror_mode": {
    "name": "ipython",
    "version": 3
   },
   "file_extension": ".py",
   "mimetype": "text/x-python",
   "name": "python",
   "nbconvert_exporter": "python",
   "pygments_lexer": "ipython3",
   "version": "3.8.8"
  }
 },
 "nbformat": 4,
 "nbformat_minor": 5
}
